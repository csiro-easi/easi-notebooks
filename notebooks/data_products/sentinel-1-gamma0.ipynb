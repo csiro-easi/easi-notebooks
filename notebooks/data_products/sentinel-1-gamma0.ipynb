{
 "cells": [
  {
   "cell_type": "markdown",
   "id": "9f1d880e-767a-42dd-8270-49e34f5086e3",
   "metadata": {},
   "source": [
    "# Using EASI Sentinel-1 RTC Gamma0 data\n",
    "\n",
    "This notebook will demonstrate how to load and use Sentinel-1 RTC Gamma0 data generated in EASI.\n",
    "\n",
    "The processing uses SNAP-10 with a *graph processing tool (GPT)* xml receipe for RTC Gamma0 and its variants.\n",
    "\n",
    "For most uses we recommend the smoothed 20 m product (`sentinel1_grd_gamma0_20m`).\n",
    "We can process the 10 m products (`sentinel1_grd_gamma0_10m`, `sentinel1_grd_gamma0_10m_unsmooth`) on request. Please also ask if you wish to trial other combinations of the parameters.\n",
    "\n",
    "## RTC Gamma0 product variants\n",
    "| | sentinel1_grd_gamma0_20m | sentinel1_grd_gamma0_10m | sentinel1_grd_gamma0_10m_unsmooth |\n",
    "|--|--|--|--|\n",
    "| **DEM** | | | |\n",
    "| copernicus_dem_30 | Y | Y | Y |\n",
    "| Scene to DEM extent multiplier| 3.0 | 3.0 | 3.0 |\n",
    "| **SNAP operator** | | | |\n",
    "| Apply-Orbit-File | Y | Y | Y |\n",
    "| ThermalNoiseRemoval | Y | Y | Y |\n",
    "| Remove-GRD-Border-Noise | Y | Y | Y |\n",
    "| Calibration | Y | Y | Y |\n",
    "| SetNoDataValue | Y | Y | Y |\n",
    "| Terrain-Flattening | Y | Y | Y |\n",
    "| Speckle-Filter | Y | Y | N |\n",
    "| Multilook | Y | Y | N |\n",
    "| Terrain-Correction | Y | Y | Y |\n",
    "| **Output** | | | |\n",
    "| Projection | WGS84, epsg:4326 | WGS84, epsg:4326 | WGS84, epsg:4326 |\n",
    "| Pixel resolution | 20 m | 10 m | 10 m |\n",
    "| Pixel alignment</br>Area = top-left | Area | Area | Area |\n",
    "\n",
    "## Units and conversions\n",
    "\n",
    "- intensity = amplitude * amplitude\n",
    "- amplitude = sqrt(intensity)\n",
    "- dB = 10*log10(intensity)\n",
    "- intensity = 10**(dB/10)\n",
    "\n",
    "Two example functions for scalar values. Below in the notebook we define functions for xarray datasets/arrays.\n",
    "```\n",
    "import math\n",
    "def intensity_to_db(x):\n",
    "    return 10*math.log10(x)\n",
    "def db_to_intensity(db):\n",
    "    return math.pow(10, db/10.0)\n",
    "```\n",
    "Reference: https://forum.step.esa.int/t/what-stage-of-processing-requires-the-linear-to-from-db-command"
   ]
  },
  {
   "cell_type": "markdown",
   "id": "dd5c0ff4-e1a2-4adf-98d1-1ca5b9f3126d",
   "metadata": {},
   "source": [
    "## Set up\n",
    "\n",
    "### Import required packages and functions"
   ]
  },
  {
   "cell_type": "code",
   "execution_count": null,
   "id": "1c848c17-2e7c-4b68-9682-b8994644f521",
   "metadata": {
    "tags": []
   },
   "outputs": [],
   "source": [
    "# Basic plots\n",
    "%matplotlib inline\n",
    "# import matplotlib.pyplot as plt\n",
    "# plt.rcParams['figure.figsize'] = [12, 8]\n",
    "\n",
    "# Common imports and settings\n",
    "import os, sys\n",
    "from pathlib import Path\n",
    "from IPython.display import Markdown\n",
    "import pandas as pd\n",
    "pd.set_option(\"display.max_rows\", None)\n",
    "import xarray as xr\n",
    "\n",
    "# Datacube\n",
    "import datacube\n",
    "from datacube.utils.rio import configure_s3_access\n",
    "from datacube.utils import masking\n",
    "from datacube.utils.cog import write_cog\n",
    "# https://github.com/GeoscienceAustralia/dea-notebooks/tree/develop/Tools\n",
    "from dea_tools.plotting import display_map\n",
    "from dea_tools.datahandling import mostcommon_crs\n",
    "\n",
    "# EASI tools\n",
    "import git\n",
    "repo = git.Repo('.', search_parent_directories=True).working_tree_dir  # This gets the current repo directory. Alternatively replace with the easi-notebooks repo path in your home directory\n",
    "if repo not in sys.path: sys.path.append(repo)\n",
    "from easi_tools import EasiDefaults, xarray_object_size\n",
    "from easi_tools.notebook_utils import mostcommon_crs, initialize_dask, localcluster_dashboard, heading\n",
    "\n",
    "# Data tools\n",
    "import hvplot.xarray\n",
    "import cartopy.crs as ccrs\n",
    "import numpy as np\n",
    "from dask.diagnostics import ProgressBar\n",
    "from scipy.ndimage import uniform_filter, variance\n",
    "from skimage.filters import threshold_minimum\n",
    "\n",
    "# Dask\n",
    "from dask.distributed import Client\n",
    "from dask_gateway import Gateway"
   ]
  },
  {
   "cell_type": "markdown",
   "id": "d2916064-8680-44a2-b537-0ecdd0b3e05b",
   "metadata": {
    "tags": []
   },
   "source": [
    "### EASI environment"
   ]
  },
  {
   "cell_type": "code",
   "execution_count": null,
   "id": "44d6583e-d2f5-4587-b035-6814d1313740",
   "metadata": {
    "tags": []
   },
   "outputs": [],
   "source": [
    "easi = EasiDefaults('asia')\n",
    "\n",
    "family = 'sentinel-1'\n",
    "# product = this.product(family)\n",
    "product = 'sentinel1_grd_gamma0_20m'\n",
    "display(Markdown(f'Default {family} product for \"{easi.name}\": [{product}]({easi.explorer}/products/{product})'))"
   ]
  },
  {
   "cell_type": "markdown",
   "id": "bb66366a-f2d5-461a-a34f-7eed5a5296fb",
   "metadata": {
    "tags": []
   },
   "source": [
    "### Dask and ODC"
   ]
  },
  {
   "cell_type": "code",
   "execution_count": null,
   "id": "02f9e778-755c-4ff2-a99f-ad5c48438665",
   "metadata": {
    "tags": []
   },
   "outputs": [],
   "source": [
    "# Start dask cluster - this may take a few minutes\n",
    "# cluster, client = initialize_dask(workers=2)\n",
    "# display(client)\n",
    "# dashboard_address = localcluster_dashboard(client=client, server=easi.hub)\n",
    "# display(dashboard_address)\n",
    "\n",
    "cluster, client = initialize_dask(use_gateway=True, workers=5)\n",
    "display(client)\n",
    "\n",
    "# ODC\n",
    "dc = datacube.Datacube()\n",
    "configure_s3_access(aws_unsigned=False, requester_pays=True, client=client);\n",
    "\n",
    "# List measurements\n",
    "dc.list_measurements().loc[[product]]"
   ]
  },
  {
   "cell_type": "markdown",
   "id": "1801db2b-e24e-45fa-85d4-e153ebcc8f6f",
   "metadata": {},
   "source": [
    "## Choose an area of interest"
   ]
  },
  {
   "cell_type": "code",
   "execution_count": null,
   "id": "2a04d875-20d4-4d72-a16d-e76b7f48161c",
   "metadata": {
    "tags": []
   },
   "outputs": [],
   "source": [
    "# Set your own latitude / longitude\n",
    "\n",
    "# PNG\n",
    "# latitude = (-4.26, -3.75)\n",
    "# longitude = (144.03, 144.74)\n",
    "# time = ('2020-01-01', '2020-05-31')\n",
    "\n",
    "# Bangladesh\n",
    "latitude = (21.5, 23.5)\n",
    "longitude = (89, 90.5)\n",
    "time = ('2024-05-01', '2024-06-10')\n",
    "\n",
    "# Vietnam\n",
    "# epsg:32648\n",
    "# latitude = (9.1, 9.9)\n",
    "# longitude = (105.6, 106.4)\n",
    "# time = ('2024-01-01', '2024-09-10')\n",
    "\n",
    "display_map(longitude, latitude)"
   ]
  },
  {
   "cell_type": "markdown",
   "id": "9fefeef8-0c21-49c2-b86f-c68e5178a7ac",
   "metadata": {
    "tags": []
   },
   "source": [
    "## Load data"
   ]
  },
  {
   "cell_type": "code",
   "execution_count": null,
   "id": "2f4c724f-636a-4833-a165-adb053acaa07",
   "metadata": {
    "tags": []
   },
   "outputs": [],
   "source": [
    "data = dc.load(\n",
    "    product = product, \n",
    "    latitude = latitude,\n",
    "    longitude = longitude,\n",
    "    time = time,\n",
    "    dask_chunks = {'latitude':2048, 'longitude':2048},      # Dask chunk size\n",
    "    group_by = 'solar_day',                    # Group by day method\n",
    ")\n",
    "\n",
    "display(xarray_object_size(data))\n",
    "display(data)"
   ]
  },
  {
   "cell_type": "markdown",
   "id": "f22ed5e6-2bd2-404d-ab42-2f43b13988dc",
   "metadata": {},
   "source": [
    "## Prepare the data"
   ]
  },
  {
   "cell_type": "code",
   "execution_count": null,
   "id": "ae9faa94-cc1d-401a-aac4-44183f871327",
   "metadata": {
    "tags": []
   },
   "outputs": [],
   "source": [
    "# intensity = amplitude * amplitude\n",
    "# amplitude = sqrt(intensity)\n",
    "# dB = 10*log10(intensity)\n",
    "# intensity = 10**(dB/10)\n",
    "\n",
    "import math\n",
    "def intensity_to_db(x):\n",
    "    return 10*math.log10(x)\n",
    "def db_to_intensity(db):\n",
    "    return math.pow(10, db/10.0)\n",
    "\n",
    "# intensity_to_db(0.5) # = -3\n",
    "# intensity_to_db(0.001) # = -30\n",
    "# db_to_intensity(-30) # = 0.001\n",
    "# db_to_intensity(-3) # = 0.5\n",
    "\n",
    "db_to_intensity(-19) # = 0.0125\n",
    "\n",
    "# https://docs.xarray.dev/en/stable/user-guide/dask.html#automatic-parallelization-with-apply-ufunc-and-map-blocks\n",
    "# https://docs.xarray.dev/en/stable/generated/xarray.apply_ufunc.html#xarray.apply_ufunc\n",
    "# https://docs.xarray.dev/en/stable/examples/apply_ufunc_vectorize_1d.html\n",
    "\n",
    "# Apply numpy.log10 to the DataArray\n",
    "# log10_data = xr.apply_ufunc(np.log10, data)"
   ]
  },
  {
   "cell_type": "code",
   "execution_count": null,
   "id": "91c113df-101a-49d2-911e-5a83e77ad14a",
   "metadata": {
    "tags": []
   },
   "outputs": [],
   "source": [
    "# Optional filters\n",
    "\n",
    "# Select time layers with at least 5% of valid pixels\n",
    "selected = data.vv.count(dim=['latitude','longitude']).values / (data.sizes['latitude']*data.sizes['longitude']) >= 0.05\n",
    "\n",
    "data = data.sel(time=selected).persist()"
   ]
  },
  {
   "cell_type": "markdown",
   "id": "5fc56259-2e20-48f8-bab5-13ef56993bf9",
   "metadata": {
    "tags": []
   },
   "source": [
    "## Plot the data"
   ]
  },
  {
   "cell_type": "code",
   "execution_count": null,
   "id": "7af6be0c-a1e2-4cbb-ab40-2eccfb09754f",
   "metadata": {
    "tags": []
   },
   "outputs": [],
   "source": [
    "def make_image(ds, frame_height=300, **kwargs):\n",
    "    defaults = dict(\n",
    "        cmap=\"Greys_r\",\n",
    "        x = 'longitude', y = 'latitude',\n",
    "        rasterize=True,\n",
    "        geo=True,\n",
    "        frame_height=frame_height,\n",
    "    )\n",
    "    defaults.update(**kwargs)\n",
    "    return ds.hvplot.image(**defaults)"
   ]
  },
  {
   "cell_type": "code",
   "execution_count": null,
   "id": "97f6ece1-cada-4815-81f1-54b7c55adf4a",
   "metadata": {
    "tags": []
   },
   "outputs": [],
   "source": [
    "# A single time layer for VV and VH, with linked axes\n",
    "\n",
    "vvplot = make_image(data.vv.isel(time=1), clim=(0, 0.5), title=f'VV ({data.time.dt.strftime(\"%Y-%m-%d %H:%M:%S\").values[0]})', clabel='Intensity')\n",
    "vhplot = make_image(data.vh.isel(time=1), clim=(0, 0.1), title=f'VH ({data.time.dt.strftime(\"%Y-%m-%d %H:%M:%S\").values[0]})', clabel='Intensity')\n",
    "vvplot + vhplot"
   ]
  },
  {
   "cell_type": "code",
   "execution_count": null,
   "id": "1fa19385-65d7-4028-be7c-9d55ef7ffe7c",
   "metadata": {
    "tags": []
   },
   "outputs": [],
   "source": [
    "# Make a dB plot\n",
    "\n",
    "# vvplot = make_image(intensity_to_db(data.vv.isel(time=0)), clim=(-30, -3), title=f'VV ({data.time.dt.strftime(\"%Y-%m-%d %H:%M:%S\").values[0]})', clabel='DB')\n",
    "# vhplot = make_image(intensity_to_db(data.vh.isel(time=0)), clim=(-30, -1), title=f'VH ({data.time.dt.strftime(\"%Y-%m-%d %H:%M:%S\").values[0]})', clabel='DB')\n",
    "# vvplot + vhplot"
   ]
  },
  {
   "cell_type": "code",
   "execution_count": null,
   "id": "4494682a-baad-4985-bf9e-e422f6c0081d",
   "metadata": {},
   "outputs": [],
   "source": [
    "# Subplots for each time layer for VV, with linked axes\n",
    "\n",
    "make_image(data.vv, clim=(0,0.5)).layout().cols(4)"
   ]
  },
  {
   "cell_type": "markdown",
   "id": "1bbb8282-3b77-43ce-a774-88b031fb94a3",
   "metadata": {},
   "source": [
    "## Make an RGB image\n",
    "\n",
    "For an RGB visualization we use the ratio between VH and VV."
   ]
  },
  {
   "cell_type": "code",
   "execution_count": null,
   "id": "be471fd9-f3e6-4872-8010-d0302c73b76e",
   "metadata": {
    "tags": []
   },
   "outputs": [],
   "source": [
    "# Add the vh/vv band\n",
    "data['vh_vv'] = data.vh / data.vv\n",
    "\n",
    "# Scale the measurements by their median so they have a similar range for visualization\n",
    "# med = data / data.median(dim=['latitude','longitude'])\n",
    "med = data\n",
    "\n",
    "# Create an RGB array, and persist it on the dask cluster\n",
    "rgb_ds = xr.concat([med.vv, med.vh, med.vh_vv], 'channel').rename('rgb').to_dataset().persist()"
   ]
  },
  {
   "cell_type": "code",
   "execution_count": null,
   "id": "877e1c9d-d879-49af-94e1-a2a8d2b67ae9",
   "metadata": {
    "tags": []
   },
   "outputs": [],
   "source": [
    "# Plot the RGB\n",
    "rgb_plot = rgb_ds.hvplot.rgb(\n",
    "    bands='channel',\n",
    "    groupby='time', rasterize=True,\n",
    "    geo=True, # crs=ccrs.PlateCarree(), projection=ccrs.PlateCarree(),\n",
    "    title='RGB', frame_height=500,\n",
    ")\n",
    "\n",
    "rgb_plot  # + vv_plot + vh_plot"
   ]
  },
  {
   "cell_type": "markdown",
   "id": "fd1df15e-31e8-4ad8-9940-e28bd6822441",
   "metadata": {},
   "source": [
    "## Export to Geotiffs\n",
    "\n",
    "Recall that to write a dask dataset to a file requires the dataset to be `.compute()`ed. This may result in a large memory increase on your JupyterLab node if the area of interest is large enough, which in turn may kill the kernel. If so then skip this step, choose a smaller area or find a different way to export data."
   ]
  },
  {
   "cell_type": "code",
   "execution_count": null,
   "id": "1347d080-74d5-491a-bb45-45252fc385ea",
   "metadata": {
    "tags": []
   },
   "outputs": [],
   "source": [
    "# Make a directory to save outputs to\n",
    "target = Path.home() / 'output'\n",
    "if not target.exists(): target.mkdir()\n",
    "\n",
    "def write_band(ds, varname):\n",
    "    \"\"\"Write the variable name of the xarray dataset to a Geotiff files for each time layer\"\"\"\n",
    "    for i in range(len(ds.time)):\n",
    "        date = ds[varname].isel(time=i).time.dt.strftime('%Y%m%d').data\n",
    "        single = ds[varname].isel(time=i).compute()\n",
    "        write_cog(geo_im=single, fname=f'{target}/example_sentinel-1_{varname}_{date}.tif', overwrite=True)\n",
    "        \n",
    "write_band(data, 'vv')\n",
    "write_band(data, 'vh')\n",
    "# write_band(rgb_da, 'rgb')"
   ]
  },
  {
   "cell_type": "code",
   "execution_count": null,
   "id": "591f8b89-c3b4-4e78-844e-dbab95b1b2e9",
   "metadata": {},
   "outputs": [],
   "source": []
  }
 ],
 "metadata": {
  "kernelspec": {
   "display_name": "Python 3 (ipykernel)",
   "language": "python",
   "name": "python3"
  },
  "language_info": {
   "codemirror_mode": {
    "name": "ipython",
    "version": 3
   },
   "file_extension": ".py",
   "mimetype": "text/x-python",
   "name": "python",
   "nbconvert_exporter": "python",
   "pygments_lexer": "ipython3",
   "version": "3.10.12"
  }
 },
 "nbformat": 4,
 "nbformat_minor": 5
}
