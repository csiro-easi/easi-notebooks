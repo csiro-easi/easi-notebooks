{
 "cells": [
  {
   "cell_type": "markdown",
   "id": "dae926b2-fa06-4f00-b18d-7f74e92ce676",
   "metadata": {},
   "source": [
    "## Sentinel-1 RTC Gamma0 data <img align=\"right\" src=\"../../resources/csiro_easi_logo.png\">\n",
    "\n",
    "#### Index\n",
    "- [Overview](#Overview)\n",
    "- [Setup (imports, defaults, dask, odc)](#Setup)\n",
    "- [Example query](#Example-query)\n",
    "- [Product definition](#Product-definition)\n",
    "- [Quality layer](#Quality-layer)\n",
    "- [Create and apply a good quality pixel mask](#Create-and-apply-a-good-quality-pixel-mask)\n",
    "- [Plot and browse the data](#Plot-and-browse-the-data)"
   ]
  },
  {
   "cell_type": "markdown",
   "id": "35b91cdb-2c5a-48c0-a0bf-7de2c2637bc5",
   "metadata": {},
   "source": [
    "## Overview\n",
    "\n",
    "This notebook demonstrates how to load and use Sentinel-1 Radiometric Terrain Corrected (RTC) Gamma0 data generated in EASI.\n",
    "\n",
    "These _analysis ready data_ S1 gamma-0 backscatter data are processed from Sentinel-1 GRD scenes using the [SNAP-10 Toolbox](https://step.esa.int/main/download/snap-download/) with Graph Processing Tool (GPT) xml receipes. See the [RTC Gamma0 product variants](#RTC-Gamma0-product-variants) section for further details.\n",
    "\n",
    "For most uses we recommend the smoothed 20 m product (`sentinel1_grd_gamma0_20m`).\n",
    "We can process the 10 m products (`sentinel1_grd_gamma0_10m`, `sentinel1_grd_gamma0_10m_unsmooth`) and other variants on request."
   ]
  },
  {
   "cell_type": "markdown",
   "id": "5e5120c6-e943-46a9-a4d8-c5b759586e62",
   "metadata": {},
   "source": [
    "#### Using Sentinel-1 backscatter data\n",
    "\n",
    "An excellent introduction and overview to using SAR data is provided in the [CEOS Laymans SAR Interpretation Guide](https://ceos.org/document_management/SEO/DataCube/Laymans_SAR_Interpretation_Guide_2.0.pdf). This guide has also been converted to a set of set of Jupyter notebooks that you can download from https://github.com/AMA-Labs/cal-notebooks/tree/main/examples/SAR.\n",
    "\n",
    "Synthetic Aperture Radar operates in the microwave range of the electromagnetic spectrum as an active pulse sent by the satellite and scattered by features on the Earth's surface. The return signal from the surface is measured at the satellite in terms of the signal intensity, phase and polarisation compared to the signal that was sent.\n",
    "\n",
    "The SAR instrument on the Sentinel-1 satellites operate in the C-band at approximately 5.6 cm wavelength. This means that it can \"see\" objects of about this size and larger, and smaller objects are relatively transparent. This makes Sentinel-1 more sensitive to tree canopies, sparse and low biomass vegetation, and surface water (wind waves or relative difference).\n",
    "\n",
    "> The SAR signal responds to the orientation and scattering from surface features of comparable size or larger than the wavelength.\n",
    "> - A bright backscatter value typically means the surface was orientated perpendicular to the signal incidence angle and most of the signal was reflected back to the satellite (direct backscatter)\n",
    "> - A dark backscatter value means most of the signal was reflected away from the satellite (forward scattering) and typically responds to a smooth surface (relative to the wavelength) such as calm water or bare soil\n",
    "> - Rough surfaces (relative to the wavelength) result in diffuse scattering where some of the signal is returned to the satellite.\n",
    "> - Complex surfaces may result in volume scattering (scattering within a tree canopy) or double-bounce scattering (perpendicular objects such as buildings or water anfd bridges)\n",
    "> - The relative backscatter values of co-polarisation (VV) and cross-polarisation (VH) measurements can provide information on the scattering characteristics of the surface features.\n",
    "\n",
    "Using Sentinel-1 backscatter data requires interpretation of the data for different surface features, including as these features change spatially or in time. It may also be necessary to carefully consider the incidence angle of the SAR signal relative to the surface features using the _incidence_angle_ band or the satellite direction metadata (descending = north to south; ascending = south to north)."
   ]
  },
  {
   "cell_type": "markdown",
   "id": "69f88789-9098-4669-b783-57d8982e9762",
   "metadata": {
    "jp-MarkdownHeadingCollapsed": true
   },
   "source": [
    "#### Units and conversions\n",
    "The `sentinel1_grd_gamma0_*` data are given in _Intensity_ (or backscatter _power_) units. Intensity can be converted to _decibel (dB)_ or _amplitude_, and vice-versa, with the following equations. Practical _Xarray_ examples are given below.\n",
    "\n",
    "Intensity to/from dB:\n",
    "```\n",
    "       dB = 10 * log10(intensity) + K\n",
    "intensity = 10^((dB-K)/10)\n",
    "\n",
    "where K is a calibration factor, which for Sentinel-1 is 0 dB.\n",
    "```\n",
    "\n",
    "Intensity to/from Amplitude:\n",
    "```\n",
    "intensity = amplitude * amplitude\n",
    "amplitude = sqrt(intensity)\n",
    "```\n",
    "\n",
    "Additional reference: https://forum.step.esa.int/t/what-stage-of-processing-requires-the-linear-to-from-db-command"
   ]
  },
  {
   "cell_type": "markdown",
   "id": "dd5c0ff4-e1a2-4adf-98d1-1ca5b9f3126d",
   "metadata": {},
   "source": [
    "## Set up"
   ]
  },
  {
   "cell_type": "markdown",
   "id": "4cb7c012-719e-4f13-a206-36f271c6a91c",
   "metadata": {},
   "source": [
    "#### Imports"
   ]
  },
  {
   "cell_type": "code",
   "execution_count": null,
   "id": "1c848c17-2e7c-4b68-9682-b8994644f521",
   "metadata": {
    "tags": []
   },
   "outputs": [],
   "source": [
    "# Common imports and settings\n",
    "import os, sys, re\n",
    "from pathlib import Path\n",
    "from IPython.display import Markdown\n",
    "import pandas as pd\n",
    "pd.set_option(\"display.max_rows\", None)\n",
    "import xarray as xr\n",
    "import numpy as np\n",
    "\n",
    "# Datacube\n",
    "import datacube\n",
    "from datacube.utils.aws import configure_s3_access\n",
    "import odc.geo.xr                                  # https://github.com/opendatacube/odc-geo\n",
    "from datacube.utils import masking  # https://github.com/opendatacube/datacube-core/blob/develop/datacube/utils/masking.py\n",
    "from dea_tools.plotting import display_map, rgb    # https://github.com/GeoscienceAustralia/dea-notebooks/tree/develop/Tools\n",
    "\n",
    "# Basic plots\n",
    "%matplotlib inline\n",
    "# import matplotlib.pyplot as plt\n",
    "# plt.rcParams['figure.figsize'] = [12, 8]\n",
    "\n",
    "# Holoviews\n",
    "import hvplot.xarray\n",
    "import cartopy.crs as ccrs"
   ]
  },
  {
   "cell_type": "code",
   "execution_count": null,
   "id": "bde8313b-887d-4529-bd57-89f740ff6380",
   "metadata": {},
   "outputs": [],
   "source": [
    "# EASI defaults\n",
    "# These are convenience functions so that the notebooks in this repository work in all EASI deployments\n",
    "\n",
    "# The `git.Repo()` part returns the local directory that easi-notebooks has been cloned into\n",
    "# If using the `easi-tools` functions from another path, replace `repo` with your local path to `easi-notebooks` directory\n",
    "try:\n",
    "    import git\n",
    "    repo = git.Repo('.', search_parent_directories=True).working_tree_dir    # Path to this cloned local directory\n",
    "except (ImportError, git.InvalidGitRepositoryError):\n",
    "    repo = Path.home() / 'easi-notebooks'    # Reasonable default\n",
    "    if not repo.is_dir():\n",
    "        raise RuntimeError('To use `easi-tools` please provide the local path to `https://github.com/csiro-easi/easi-notebooks`')\n",
    "if repo not in sys.path:\n",
    "    sys.path.append(str(repo))    # Add the local path to `easi-notebooks` to python\n",
    "\n",
    "from easi_tools import EasiDefaults\n",
    "from easi_tools import initialize_dask, xarray_object_size, heading"
   ]
  },
  {
   "cell_type": "markdown",
   "id": "d2916064-8680-44a2-b537-0ecdd0b3e05b",
   "metadata": {
    "tags": []
   },
   "source": [
    "#### EASI defaults\n",
    "\n",
    "These default values are configured for each EASI instance. They help us to use the same training notebooks in each EASI instance. You may find some of the functions convenient for your work or you can easily override the values in your copy of this notebook."
   ]
  },
  {
   "cell_type": "code",
   "execution_count": null,
   "id": "44d6583e-d2f5-4587-b035-6814d1313740",
   "metadata": {
    "tags": []
   },
   "outputs": [],
   "source": [
    "easi = EasiDefaults()\n",
    "\n",
    "family = 'sentinel-1'\n",
    "product = easi.product(family)   # 'sentinel1_grd_gamma0_20m'\n",
    "display(Markdown(f'Default {family} product for \"{easi.name}\": [{product}]({easi.explorer}/products/{product})'))"
   ]
  },
  {
   "cell_type": "markdown",
   "id": "bb66366a-f2d5-461a-a34f-7eed5a5296fb",
   "metadata": {
    "tags": []
   },
   "source": [
    "#### Dask cluster\n",
    "\n",
    "Using a local _Dask_ cluster is a good habit to get into. It can simplify loading and processing of data in many cases, and it provides a dashboard that shows the loading/processing progress.\n",
    "\n",
    "To learn more about _Dask_ see the set of [dask notebooks](https://github.com/csiro-easi/easi-notebooks/tree/main/html#dask-tutorials)."
   ]
  },
  {
   "cell_type": "code",
   "execution_count": null,
   "id": "02f9e778-755c-4ff2-a99f-ad5c48438665",
   "metadata": {
    "tags": []
   },
   "outputs": [],
   "source": [
    "# Local cluster\n",
    "cluster, client = initialize_dask(workers=4)\n",
    "display(client)\n",
    "\n",
    "# Or use Dask Gateway - this may take a few minutes\n",
    "# cluster, client = initialize_dask(use_gateway=True, workers=4)\n",
    "# display(client)"
   ]
  },
  {
   "cell_type": "markdown",
   "id": "a746582e-be79-448c-a9c4-7a2ae2d703ce",
   "metadata": {},
   "source": [
    "#### ODC database\n",
    "\n",
    "Connect to the ODC database. Configure the environment and low-level tools to read from AWS buckets."
   ]
  },
  {
   "cell_type": "code",
   "execution_count": null,
   "id": "0e2232ee-f0a5-43fc-a6c6-d422b437cd69",
   "metadata": {},
   "outputs": [],
   "source": [
    "dc = datacube.Datacube()\n",
    "\n",
    "# Access AWS \"requester-pays\" buckets\n",
    "# This is necessary for reading data from most third-party AWS S3 buckets such as for Landsat and Sentinel-2\n",
    "configure_s3_access(aws_unsigned=False, requester_pays=True, client=client);"
   ]
  },
  {
   "cell_type": "markdown",
   "id": "1801db2b-e24e-45fa-85d4-e153ebcc8f6f",
   "metadata": {},
   "source": [
    "## Example query\n",
    "\n",
    "Change any of the parameters in the `query` object below to adjust the location, time, projection, or spatial resolution of the returned datasets.\n",
    "\n",
    "Use the Explorer interface to check the temporal and spatial coverage for each product."
   ]
  },
  {
   "cell_type": "code",
   "execution_count": null,
   "id": "2a04d875-20d4-4d72-a16d-e76b7f48161c",
   "metadata": {
    "tags": []
   },
   "outputs": [],
   "source": [
    "# Explorer link\n",
    "display(Markdown(f'See: {easi.explorer}/products/{product}'))\n",
    "\n",
    "# EASI defaults\n",
    "display(Markdown(f'#### Location: {easi.location}'))\n",
    "latitude_range = easi.latitude\n",
    "longitude_range = easi.longitude\n",
    "time_range = easi.time\n",
    "\n",
    "# Or set your own latitude / longitude\n",
    "# Australia GWW\n",
    "# latitude_range = (-33, -32.6)\n",
    "# longitude_range = (120.5, 121)\n",
    "# time_range = ('2020-01-01', '2020-01-31')\n",
    "\n",
    "# Example: PNG\n",
    "latitude_range = (-4.26, -3.75)\n",
    "longitude_range = (144.03, 144.74)\n",
    "time_range = ('2020-01-01', '2020-05-31')\n",
    "\n",
    "# Bangladesh\n",
    "# latitude_range = (21.5, 23.5)\n",
    "# longitude_range = (89, 90.5)\n",
    "# time_range = ('2024-05-01', '2024-06-10')\n",
    "\n",
    "# Vietnam\n",
    "# (optional target projection = epsg:32648)\n",
    "# latitude_range = (9.1, 9.9)\n",
    "# longitude_range = (105.6, 106.4)\n",
    "# time_range = ('2024-01-01', '2024-09-10')\n",
    "\n",
    "query = {\n",
    "    'product': product,       # Product name\n",
    "    'x': longitude_range,     # \"x\" axis bounds\n",
    "    'y': latitude_range,      # \"y\" axis bounds\n",
    "    'time': time_range,       # Any parsable date strings\n",
    "}\n",
    "\n",
    "# Convenience function to display the selected area of interest\n",
    "display_map(longitude_range, latitude_range)"
   ]
  },
  {
   "cell_type": "markdown",
   "id": "9fefeef8-0c21-49c2-b86f-c68e5178a7ac",
   "metadata": {
    "tags": []
   },
   "source": [
    "## Load data"
   ]
  },
  {
   "cell_type": "code",
   "execution_count": null,
   "id": "2f4c724f-636a-4833-a165-adb053acaa07",
   "metadata": {
    "tags": []
   },
   "outputs": [],
   "source": [
    "# Target xarray parameters\n",
    "# - Select a set of measurements to load\n",
    "# - output CRS and resolution\n",
    "# - Usually we group input scenes on the same day to a single time layer (groupby)\n",
    "# - Select a reasonable Dask chunk size (this should be adjusted depending on the\n",
    "#   spatial and resolution parameters you choose\n",
    "load_params = {\n",
    "    'group_by': 'solar_day',                        # Scene grouping\n",
    "    'dask_chunks': {'latitude':2048, 'longitude':2048},      # Dask chunks\n",
    "}\n",
    "\n",
    "# Load data\n",
    "data = dc.load(**(query | load_params))\n",
    "display(xarray_object_size(data))\n",
    "display(data)"
   ]
  },
  {
   "cell_type": "code",
   "execution_count": null,
   "id": "be474a1a-b5f1-40e0-b35a-5b9c9f1a15bd",
   "metadata": {},
   "outputs": [],
   "source": [
    "# When happy with the shape and size of chunks, persist() the result\n",
    "data = data.persist()"
   ]
  },
  {
   "cell_type": "markdown",
   "id": "e3d86506-39ba-4f02-ac6e-2d1d27119668",
   "metadata": {},
   "source": [
    "## Conversion and helper functions"
   ]
  },
  {
   "cell_type": "code",
   "execution_count": null,
   "id": "ae9faa94-cc1d-401a-aac4-44183f871327",
   "metadata": {
    "tags": []
   },
   "outputs": [],
   "source": [
    "# These functions use numpy, which should be satisfactory for most notebooks.\n",
    "# Calculations for larger or more complex arrays may require Xarray's \"ufunc\" capability.\n",
    "# https://docs.xarray.dev/en/stable/examples/apply_ufunc_vectorize_1d.html\n",
    "#\n",
    "# Apply numpy.log10 to the DataArray\n",
    "# log10_data = xr.apply_ufunc(np.log10, data)\n",
    "\n",
    "def intensity_to_db(da: 'xr.DataArray', K=0):\n",
    "    \"\"\"Return an array converted to dB values\"\"\"\n",
    "    xx = da.where(da > 0, np.nan)  # Set values <= 0 to NaN\n",
    "    xx = 10*np.log10(xx) + K\n",
    "    xx.attrs.update({\"units\": \"dB\"})\n",
    "    return xx\n",
    "\n",
    "def db_to_intensity(da: 'xr.DataArray', K=0):\n",
    "    \"\"\"Return an array converted to intensity values\"\"\"\n",
    "    xx = np.power(10, (da-K)/10.0)\n",
    "    xx.attrs.update({\"units\": \"intensity\"})\n",
    "    return xx\n",
    "\n",
    "def make_image(ds: 'xarray', frame_height=300, **kwargs):\n",
    "    \"\"\"Return a Holoviews object that can be displayed or combined\"\"\"\n",
    "    spatial_dims = ds.odc.spatial_dims\n",
    "    defaults = dict(\n",
    "        cmap=\"Greys_r\",\n",
    "        y = spatial_dims[0], x = spatial_dims[1],\n",
    "        rasterize = True,\n",
    "        geo = True,\n",
    "        frame_height = frame_height,\n",
    "        clabel = ds.attrs.get('units', None),\n",
    "    )\n",
    "    defaults.update(**kwargs)\n",
    "    return ds.hvplot.image(**defaults)\n",
    "\n",
    "def select_valid_time_layers(ds: 'xarray', percent: float = 5):\n",
    "    \"\"\"Select time layers that have at least a given percentage of valid data (e.g., >=5%)\n",
    "\n",
    "    Example usage:\n",
    "      selected = select_valid_time_layers(ds, percent=5)\n",
    "      filtered == ds.sel(time=selected)\n",
    "    \"\"\"\n",
    "    spatial_dims = ds.odc.spatial_dims\n",
    "    return ds.count(dim=spatial_dims).values / (ds.sizes[spatial_dims[0]]*ds.sizes[spatial_dims[1]]) >= (percent/100.0)\n",
    "\n",
    "# Examples to check that the intensity to/from dB functions work as expected\n",
    "# xx = data.vv.isel(time=0,latitude=np.arange(0, 5),longitude=np.arange(0, 5))\n",
    "# xx[0] = 0\n",
    "# xx[1] = -0.001\n",
    "# display(xx.values)\n",
    "# yy = intensity_to_db(xx)\n",
    "# display(yy.values)\n",
    "# zz = db_to_intensity(yy)\n",
    "# display(zz.values)"
   ]
  },
  {
   "cell_type": "code",
   "execution_count": null,
   "id": "91c113df-101a-49d2-911e-5a83e77ad14a",
   "metadata": {
    "tags": []
   },
   "outputs": [],
   "source": [
    "# Optional time layer filter\n",
    "\n",
    "selected = select_valid_time_layers(data.vv, 10)\n",
    "data = data.sel(time=selected).persist()"
   ]
  },
  {
   "cell_type": "code",
   "execution_count": null,
   "id": "961295e1-675b-4dda-92ba-c44b15506de8",
   "metadata": {},
   "outputs": [],
   "source": [
    "# Add db values to the dataset\n",
    "\n",
    "data['vh_db'] = intensity_to_db(data.vh).persist()\n",
    "data['vv_db'] = intensity_to_db(data.vv).persist()"
   ]
  },
  {
   "cell_type": "markdown",
   "id": "5fc56259-2e20-48f8-bab5-13ef56993bf9",
   "metadata": {
    "tags": []
   },
   "source": [
    "## Plot the data\n",
    "\n",
    "> Note the different data ranges for plotting (`clim`) between `vv`, `vh`, _intensity_ and _dB_.\n",
    "\n",
    "- Stronger co-polarisation (VV) indicates direct backscatter while stronger cross-polarisation (VH) may indicate a complex surface or volume scattering.\n",
    "- Intensity data are linear-scaled so can tend to disciminate across a range of backscatter returns.\n",
    "- Decibel data are log-scaled so can tend to discriminate high and low backscatter returns."
   ]
  },
  {
   "cell_type": "code",
   "execution_count": null,
   "id": "97f6ece1-cada-4815-81f1-54b7c55adf4a",
   "metadata": {
    "tags": []
   },
   "outputs": [],
   "source": [
    "# A single time layer for VV and VH, with linked axes. Adjust browser window width if required.\n",
    "\n",
    "idx = 0\n",
    "time_label = data.time.dt.strftime(\"%Y-%m-%d %H:%M:%S\").values[idx]\n",
    "\n",
    "vvplot = make_image(data.vv.isel(time=idx), clim=(0, 0.5), title=f'VV ({time_label})')\n",
    "vhplot = make_image(data.vh.isel(time=idx), clim=(0, 0.1), title=f'VH ({time_label})')\n",
    "angle =  make_image(data.angle.isel(time=idx), title=f'Angle ({time_label})')\n",
    "vvplot + vhplot + angle"
   ]
  },
  {
   "cell_type": "code",
   "execution_count": null,
   "id": "1fa19385-65d7-4028-be7c-9d55ef7ffe7c",
   "metadata": {
    "tags": []
   },
   "outputs": [],
   "source": [
    "# Make a dB plot. Adjust browser window width if required.\n",
    "\n",
    "vvplot = make_image(data.vv_db.isel(time=idx), clim=(-30, -3), title=f'VV ({time_label})')\n",
    "vhplot = make_image(data.vh_db.isel(time=idx), clim=(-30, -1), title=f'VH ({time_label})')\n",
    "vvplot + vhplot + angle"
   ]
  },
  {
   "cell_type": "code",
   "execution_count": null,
   "id": "4494682a-baad-4985-bf9e-e422f6c0081d",
   "metadata": {},
   "outputs": [],
   "source": [
    "# Subplots for each time layer for VV, with linked axes\n",
    "\n",
    "make_image(data.vh_db, clim=(-30, -3), robust=True).layout().cols(4)"
   ]
  },
  {
   "cell_type": "markdown",
   "id": "77fbc6c5-4e0e-40c2-8c8f-82757ae0909b",
   "metadata": {},
   "source": [
    "## Plot a histogram of the dB data\n",
    "\n",
    "A histogram can help separate water from land features."
   ]
  },
  {
   "cell_type": "code",
   "execution_count": null,
   "id": "2a122cfe-f2bd-4b63-983c-c625e6849f5e",
   "metadata": {},
   "outputs": [],
   "source": [
    "data.vh_db.plot.hist(bins=np.arange(-30, 0, 1), facecolor='red')"
   ]
  },
  {
   "cell_type": "markdown",
   "id": "1bbb8282-3b77-43ce-a774-88b031fb94a3",
   "metadata": {},
   "source": [
    "## Make an RGB image\n",
    "\n",
    "A common strategy to create an RGB colour composite image for SAR data from two channels is to use the ratio of the channels to represent the third colour. Here we choose\n",
    "\n",
    "To create an RGB colour composite image we can use the ratio of VH and VH to represent a thried channel. Here we choose\n",
    "- Red = VH ... complex scattering\n",
    "- Green = VV ... direct scattering\n",
    "- Blue = VH/VV ... relatively more complex than direct"
   ]
  },
  {
   "cell_type": "code",
   "execution_count": null,
   "id": "be471fd9-f3e6-4872-8010-d0302c73b76e",
   "metadata": {
    "tags": []
   },
   "outputs": [],
   "source": [
    "# Add the vh/vv band to represent 'blue'\n",
    "data['vh_vv'] = data.vh / data.vv\n",
    "\n",
    "# Scale the measurements by their median so they have a similar range for visualization\n",
    "spatial_dims = data.odc.spatial_dims\n",
    "data['vh_scaled'] = data.vh / data.vh.median(dim=spatial_dims).persist()\n",
    "data['vv_scaled'] = data.vv / data.vv.median(dim=spatial_dims).persist()\n",
    "data['vh_vv_scaled'] = data.vh_vv / data.vh_vv.median(dim=spatial_dims).persist()\n",
    "\n",
    "# An hvplot convenicence function\n",
    "def rgb_image(ds: 'xarray'):\n",
    "    spatial_dims = ds.odc.spatial_dims\n",
    "    xx = ds.hvplot.rgb(\n",
    "        bands='band',\n",
    "        y = spatial_dims[0], x = spatial_dims[1],\n",
    "        groupby='time', rasterize=True,\n",
    "        geo=True,\n",
    "        title='RGB', frame_height=500,\n",
    "    )\n",
    "    return xx"
   ]
  },
  {
   "cell_type": "code",
   "execution_count": null,
   "id": "4595fe53-272a-4f56-97a7-3f9c890d5311",
   "metadata": {},
   "outputs": [],
   "source": [
    "# RGB plot using a DEA Tools function\n",
    "rgb(data, bands=['vh_scaled','vv_scaled','vh_vv_scaled'], col=\"time\")"
   ]
  },
  {
   "cell_type": "code",
   "execution_count": null,
   "id": "8873b507-570f-45c0-9ac4-d51a2958cec5",
   "metadata": {},
   "outputs": [],
   "source": [
    "# Using hvplot\n",
    "\n",
    "rgb_image(\n",
    "    data.odc.to_rgba(bands=['vh_scaled','vv_scaled','vh_vv_scaled'], vmin=0, vmax=2)\n",
    ")"
   ]
  },
  {
   "cell_type": "markdown",
   "id": "fd1df15e-31e8-4ad8-9940-e28bd6822441",
   "metadata": {},
   "source": [
    "## Export to Geotiffs\n",
    "\n",
    "Recall that to write a dask dataset to a file requires the dataset to be `.compute()`ed. This may result in a large memory increase on your JupyterLab node if the area of interest is large enough, which in turn may kill the kernel. If so then skip this step, choose a smaller area or find a different way to export data."
   ]
  },
  {
   "cell_type": "code",
   "execution_count": null,
   "id": "1347d080-74d5-491a-bb45-45252fc385ea",
   "metadata": {
    "tags": []
   },
   "outputs": [],
   "source": [
    "# Make a directory to save outputs to\n",
    "target = Path.home() / 'output'\n",
    "if not target.exists(): target.mkdir()\n",
    "\n",
    "def write_band(ds, varname):\n",
    "    \"\"\"Write the variable name of the xarray dataset to a Geotiff files for each time layer\"\"\"\n",
    "    for i in range(len(ds.time)):\n",
    "        date = ds[varname].isel(time=i).time.dt.strftime('%Y%m%d').data\n",
    "        single = ds[varname].isel(time=i).compute()\n",
    "        single.odc.write_cog(\n",
    "            fname=f'{target}/example_sentinel-1_{varname}_{date}.tif',\n",
    "            overwrite=True,\n",
    "        )\n",
    "        \n",
    "write_band(data, 'vv')\n",
    "write_band(data, 'vh')"
   ]
  },
  {
   "cell_type": "markdown",
   "id": "7ed2add5-12ad-4327-801b-9e60b3baf031",
   "metadata": {},
   "source": [
    "## Appendix"
   ]
  },
  {
   "cell_type": "markdown",
   "id": "776027ff-c4ef-4d34-962f-b2a33ba09a60",
   "metadata": {},
   "source": [
    "### RTC Gamma0 product variants\n",
    "\n",
    "The set of products listed here differ by the selection and configuration of processing steps and options. The set of SNAP operators conform with [CEOS Analysis Ready Data](https://ceos.org/ard/) specifications for _normalised radar backscatter_.\n",
    "\n",
    "S1 gamma-0 backscatter data are processed from Sentinel-1 GRD scenes using the [SNAP-10 Toolbox](https://step.esa.int/main/download/snap-download/) with Graph Processing Tool (GPT) xml receipes (available on request).\n",
    "\n",
    "| | sentinel1_grd_gamma0_20m | sentinel1_grd_gamma0_10m | sentinel1_grd_gamma0_10m_unsmooth |\n",
    "|--|--|--|--|\n",
    "| **DEM** | | | |\n",
    "| copernicus_dem_30 | Y | Y | Y |\n",
    "| Scene to DEM extent multiplier| 3.0 | 3.0 | 3.0 |\n",
    "| **SNAP operator** | | | |\n",
    "| Apply-Orbit-File | Y | Y | Y |\n",
    "| ThermalNoiseRemoval | Y | Y | Y |\n",
    "| Remove-GRD-Border-Noise | Y | Y | Y |\n",
    "| Calibration | Y | Y | Y |\n",
    "| SetNoDataValue | Y | Y | Y |\n",
    "| Terrain-Flattening | Y | Y | Y |\n",
    "| Speckle-Filter | Y | Y | N |\n",
    "| Multilook | Y | Y | N |\n",
    "| Terrain-Correction | Y | Y | Y |\n",
    "| **Output** | | | |\n",
    "| Projection | WGS84, epsg:4326 | WGS84, epsg:4326 | WGS84, epsg:4326 |\n",
    "| Pixel resolution | 20 m | 10 m | 10 m |\n",
    "| Pixel alignment</br>_PixelIsArea = top-left_ | PixelIsArea | PixelIsArea | PixelIsArea |"
   ]
  },
  {
   "cell_type": "code",
   "execution_count": null,
   "id": "ef7c0753-3ba2-4736-acf0-3f52ca36bd17",
   "metadata": {},
   "outputs": [],
   "source": []
  }
 ],
 "metadata": {
  "kernelspec": {
   "display_name": "Python 3 (ipykernel)",
   "language": "python",
   "name": "python3"
  },
  "language_info": {
   "codemirror_mode": {
    "name": "ipython",
    "version": 3
   },
   "file_extension": ".py",
   "mimetype": "text/x-python",
   "name": "python",
   "nbconvert_exporter": "python",
   "pygments_lexer": "ipython3",
   "version": "3.12.3"
  }
 },
 "nbformat": 4,
 "nbformat_minor": 5
}
