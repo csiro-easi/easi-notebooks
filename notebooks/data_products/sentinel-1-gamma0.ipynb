{
 "cells": [
  {
   "cell_type": "markdown",
   "id": "9f1d880e-767a-42dd-8270-49e34f5086e3",
   "metadata": {},
   "source": [
    "# Using EASI Sentinel-1 RTC Gamma0 data\n",
    "\n",
    "This notebook demonstrates how to load and use Sentinel-1 Radiometric Terrain Corrected (RTC) Gamma0 data generated in EASI.\n",
    "\n",
    "The processing uses SNAP-10 with a *graph processing tool (GPT)* xml receipe for RTC Gamma0 and its variants.\n",
    "\n",
    "For most uses we recommend the smoothed 20 m product (`sentinel1_grd_gamma0_20m`).\n",
    "We can process the 10 m products (`sentinel1_grd_gamma0_10m`, `sentinel1_grd_gamma0_10m_unsmooth`) on request. Please also ask if you wish to trial other combinations of the parameters.\n",
    "\n",
    "## RTC Gamma0 product variants\n",
    "| | sentinel1_grd_gamma0_20m | sentinel1_grd_gamma0_10m | sentinel1_grd_gamma0_10m_unsmooth |\n",
    "|--|--|--|--|\n",
    "| **DEM** | | | |\n",
    "| copernicus_dem_30 | Y | Y | Y |\n",
    "| Scene to DEM extent multiplier| 3.0 | 3.0 | 3.0 |\n",
    "| **SNAP operator** | | | |\n",
    "| Apply-Orbit-File | Y | Y | Y |\n",
    "| ThermalNoiseRemoval | Y | Y | Y |\n",
    "| Remove-GRD-Border-Noise | Y | Y | Y |\n",
    "| Calibration | Y | Y | Y |\n",
    "| SetNoDataValue | Y | Y | Y |\n",
    "| Terrain-Flattening | Y | Y | Y |\n",
    "| Speckle-Filter | Y | Y | N |\n",
    "| Multilook | Y | Y | N |\n",
    "| Terrain-Correction | Y | Y | Y |\n",
    "| **Output** | | | |\n",
    "| Projection | WGS84, epsg:4326 | WGS84, epsg:4326 | WGS84, epsg:4326 |\n",
    "| Pixel resolution | 20 m | 10 m | 10 m |\n",
    "| Pixel alignment</br>_PixelIsArea = top-left_ | PixelIsArea | PixelIsArea | PixelIsArea |\n",
    "\n",
    "## Units and conversions\n",
    "The `sentinel1_grd_gamma0_*` data are in _Intensity_ units. Intensity can be converted to _dB_ and _amplitude_, and vice-versa, with the following.\n",
    "Practical _Xarray_ examples are given below.\n",
    "\n",
    "Intensity to/from dB:\n",
    "```\n",
    "       dB = 10*log10(intensity)\n",
    "intensity = 10**(dB/10)\n",
    "```\n",
    "\n",
    "Intensity to/from Amplitude:\n",
    "```\n",
    "intensity = amplitude * amplitude\n",
    "amplitude = sqrt(intensity)\n",
    "```\n",
    "\n",
    "In this notebook we have two functions for xarray datasets/arrays, using numpy.\n",
    "```\n",
    "def intensity_to_db(x):\n",
    "    return 10*numpy.log10(x)\n",
    "\n",
    "def db_to_intensity(db):\n",
    "    return numpy.pow(10, db/10.0)\n",
    "```\n",
    "Reference: https://forum.step.esa.int/t/what-stage-of-processing-requires-the-linear-to-from-db-command"
   ]
  },
  {
   "cell_type": "markdown",
   "id": "dd5c0ff4-e1a2-4adf-98d1-1ca5b9f3126d",
   "metadata": {},
   "source": [
    "## Set up\n",
    "\n",
    "### Import required packages and functions"
   ]
  },
  {
   "cell_type": "code",
   "execution_count": null,
   "id": "1c848c17-2e7c-4b68-9682-b8994644f521",
   "metadata": {
    "tags": []
   },
   "outputs": [],
   "source": [
    "# Basic plots\n",
    "%matplotlib inline\n",
    "# import matplotlib.pyplot as plt\n",
    "# plt.rcParams['figure.figsize'] = [12, 8]\n",
    "\n",
    "# Common imports and settings\n",
    "import os, sys, re\n",
    "from pathlib import Path\n",
    "from IPython.display import Markdown\n",
    "import pandas as pd\n",
    "pd.set_option(\"display.max_rows\", None)\n",
    "import xarray as xr\n",
    "import numpy as np\n",
    "\n",
    "# Datacube\n",
    "import datacube\n",
    "from datacube.utils.rio import configure_s3_access\n",
    "from datacube.utils import masking\n",
    "import odc.geo.xr\n",
    "from dea_tools.plotting import display_map\n",
    "\n",
    "# EASI tools\n",
    "import git\n",
    "repo = git.Repo('.', search_parent_directories=True).working_tree_dir  # This gets the current repo directory. Alternatively replace with the easi-notebooks repo path in your home directory\n",
    "if repo not in sys.path: sys.path.append(repo)\n",
    "from easi_tools import EasiDefaults, xarray_object_size\n",
    "from easi_tools.notebook_utils import mostcommon_crs, initialize_dask, localcluster_dashboard, heading\n",
    "\n",
    "# Data tools\n",
    "import hvplot.xarray\n",
    "# import geoviews\n",
    "import cartopy.crs as ccrs\n",
    "\n",
    "# Dask\n",
    "import dask\n",
    "from dask.distributed import Client, LocalCluster"
   ]
  },
  {
   "cell_type": "markdown",
   "id": "d2916064-8680-44a2-b537-0ecdd0b3e05b",
   "metadata": {
    "tags": []
   },
   "source": [
    "### EASI environment\n",
    "\n",
    "> This is for convenience only.\n",
    "\n",
    "It allows this notebook to be used in any EASI deployment defined as part of the `easi-notebooks` repository.\n",
    "Please substitute with your own values if adapting the notebook for your own work."
   ]
  },
  {
   "cell_type": "code",
   "execution_count": null,
   "id": "44d6583e-d2f5-4587-b035-6814d1313740",
   "metadata": {
    "tags": []
   },
   "outputs": [],
   "source": [
    "easi = EasiDefaults()\n",
    "\n",
    "family = 'sentinel-1'\n",
    "# product = this.product(family)\n",
    "product = 'sentinel1_grd_gamma0_20m'\n",
    "display(Markdown(f'Default {family} product for \"{easi.name}\": [{product}]({easi.explorer}/products/{product})'))"
   ]
  },
  {
   "cell_type": "markdown",
   "id": "bb66366a-f2d5-461a-a34f-7eed5a5296fb",
   "metadata": {
    "tags": []
   },
   "source": [
    "### Dask and ODC"
   ]
  },
  {
   "cell_type": "code",
   "execution_count": null,
   "id": "02f9e778-755c-4ff2-a99f-ad5c48438665",
   "metadata": {
    "tags": []
   },
   "outputs": [],
   "source": [
    "# Dask local cluster\n",
    "cluster = LocalCluster(n_workers=4)\n",
    "client = Client(cluster)\n",
    "server = f'https://hub.{easi.domain}'  # Or replace if not using EasiDefaults\n",
    "user = os.environ.get('JUPYTERHUB_SERVICE_PREFIX')  # Current user\n",
    "dask.config.set({\"distributed.dashboard.link\": f'{server}{user}' + \"proxy/{port}/status\"})  # port is evaluated by dask\n",
    "display(client)\n",
    "\n",
    "# Or use Dask Gateway - this may take a few minutes\n",
    "# cluster, client = initialize_dask(use_gateway=True, workers=4)\n",
    "# display(client)\n",
    "\n",
    "# ODC\n",
    "dc = datacube.Datacube()\n",
    "configure_s3_access(aws_unsigned=False, requester_pays=True, client=client);\n",
    "\n",
    "# List measurements for the product\n",
    "dc.list_measurements().loc[[product]]"
   ]
  },
  {
   "cell_type": "markdown",
   "id": "1801db2b-e24e-45fa-85d4-e153ebcc8f6f",
   "metadata": {},
   "source": [
    "## Choose an area of interest"
   ]
  },
  {
   "cell_type": "code",
   "execution_count": null,
   "id": "2a04d875-20d4-4d72-a16d-e76b7f48161c",
   "metadata": {
    "tags": []
   },
   "outputs": [],
   "source": [
    "# Set your own latitude / longitude\n",
    "\n",
    "# Australia GWW\n",
    "latitude = (-33, -32.6)\n",
    "longitude = (120.5, 121)\n",
    "time = ('2020-01-01', '2020-01-31')\n",
    "\n",
    "# PNG\n",
    "# latitude = (-4.26, -3.75)\n",
    "# longitude = (144.03, 144.74)\n",
    "# time = ('2020-01-01', '2020-05-31')\n",
    "\n",
    "# Bangladesh\n",
    "# latitude = (21.5, 23.5)\n",
    "# longitude = (89, 90.5)\n",
    "# time = ('2024-05-01', '2024-06-10')\n",
    "\n",
    "# Vietnam\n",
    "# epsg:32648\n",
    "# latitude = (9.1, 9.9)\n",
    "# longitude = (105.6, 106.4)\n",
    "# time = ('2024-01-01', '2024-09-10')\n",
    "\n",
    "display_map(longitude, latitude)"
   ]
  },
  {
   "cell_type": "markdown",
   "id": "9fefeef8-0c21-49c2-b86f-c68e5178a7ac",
   "metadata": {
    "tags": []
   },
   "source": [
    "## Load data"
   ]
  },
  {
   "cell_type": "code",
   "execution_count": null,
   "id": "2f4c724f-636a-4833-a165-adb053acaa07",
   "metadata": {
    "tags": []
   },
   "outputs": [],
   "source": [
    "data = dc.load(\n",
    "    product = product, \n",
    "    latitude = latitude,\n",
    "    longitude = longitude,\n",
    "    time = time,\n",
    "    dask_chunks = {'latitude':2048, 'longitude':2048},      # Dask chunk size\n",
    "    group_by = 'solar_day',                    # Group by day method\n",
    ")\n",
    "\n",
    "display(xarray_object_size(data))\n",
    "display(data)"
   ]
  },
  {
   "cell_type": "markdown",
   "id": "e3d86506-39ba-4f02-ac6e-2d1d27119668",
   "metadata": {},
   "source": [
    "## Conversion and helper functions"
   ]
  },
  {
   "cell_type": "code",
   "execution_count": null,
   "id": "ae9faa94-cc1d-401a-aac4-44183f871327",
   "metadata": {
    "tags": []
   },
   "outputs": [],
   "source": [
    "# These functions use numpy, which should be satisfactory for most notebooks.\n",
    "# Calculations for larger or more complex arrays may require Xarray's \"ufunc\" capability.\n",
    "# https://docs.xarray.dev/en/stable/examples/apply_ufunc_vectorize_1d.html\n",
    "#\n",
    "# Apply numpy.log10 to the DataArray\n",
    "# log10_data = xr.apply_ufunc(np.log10, data)\n",
    "\n",
    "def intensity_to_db(x):\n",
    "    return 10*np.log10(x)\n",
    "\n",
    "def db_to_intensity(db):\n",
    "    return np.pow(10, db/10.0)\n",
    "\n",
    "\n",
    "def make_image(ds: 'xarray', frame_height=300, **kwargs):\n",
    "    \"\"\"Return a Holoviews object that can be displayed or combined\"\"\"\n",
    "    # TODO select spatial dim names from the given xarray\n",
    "    defaults = dict(\n",
    "        cmap=\"Greys_r\",\n",
    "        x = 'longitude', y = 'latitude',\n",
    "        rasterize=True,\n",
    "        geo=True,\n",
    "        frame_height=frame_height,\n",
    "    )\n",
    "    defaults.update(**kwargs)\n",
    "    return ds.hvplot.image(**defaults)\n",
    "\n",
    "\n",
    "def select_valid_time_layers(ds: 'xarray', percent: float):\n",
    "    \"\"\"Select time layers that have at least a given percentage of valid data (e.g., >=5%)\n",
    "\n",
    "    Example usage:\n",
    "      selected = select_valid_time_layers(ds, 0.05)\n",
    "      filtered == ds.sel(time=selected)\n",
    "    \"\"\"\n",
    "    # TODO select spatial dim names from the given xarray\n",
    "    return ds.count(dim=['latitude','longitude']).values / (data.sizes['latitude']*data.sizes['longitude']) >= percent"
   ]
  },
  {
   "cell_type": "code",
   "execution_count": null,
   "id": "91c113df-101a-49d2-911e-5a83e77ad14a",
   "metadata": {
    "tags": []
   },
   "outputs": [],
   "source": [
    "# Optional time layer filter\n",
    "\n",
    "# Select time layers with at least 5% of valid pixels\n",
    "# selected = data.vv.count(dim=['latitude','longitude']).values / (data.sizes['latitude']*data.sizes['longitude']) >= 0.05\n",
    "\n",
    "# data = data.sel(time=selected).persist()"
   ]
  },
  {
   "cell_type": "code",
   "execution_count": null,
   "id": "961295e1-675b-4dda-92ba-c44b15506de8",
   "metadata": {},
   "outputs": [],
   "source": [
    "db_data = intensity_to_db(data).persist()"
   ]
  },
  {
   "cell_type": "markdown",
   "id": "5fc56259-2e20-48f8-bab5-13ef56993bf9",
   "metadata": {
    "tags": []
   },
   "source": [
    "## Plot the data"
   ]
  },
  {
   "cell_type": "code",
   "execution_count": null,
   "id": "97f6ece1-cada-4815-81f1-54b7c55adf4a",
   "metadata": {
    "tags": []
   },
   "outputs": [],
   "source": [
    "# A single time layer for VV and VH, with linked axes\n",
    "\n",
    "vvplot = make_image(data.vv.isel(time=1), clim=(0, 0.5), title=f'VV ({data.time.dt.strftime(\"%Y-%m-%d %H:%M:%S\").values[0]})', clabel='Intensity')\n",
    "vhplot = make_image(data.vh.isel(time=1), clim=(0, 0.1), title=f'VH ({data.time.dt.strftime(\"%Y-%m-%d %H:%M:%S\").values[0]})', clabel='Intensity')\n",
    "vvplot + vhplot"
   ]
  },
  {
   "cell_type": "code",
   "execution_count": null,
   "id": "1fa19385-65d7-4028-be7c-9d55ef7ffe7c",
   "metadata": {
    "tags": []
   },
   "outputs": [],
   "source": [
    "# Make a dB plot\n",
    "\n",
    "vvplot = make_image(db_data.vv.isel(time=0), clim=(-30, -3), title=f'VV ({data.time.dt.strftime(\"%Y-%m-%d %H:%M:%S\").values[0]})', clabel='dB')\n",
    "vhplot = make_image(db_data.vh.isel(time=0), clim=(-30, -1), title=f'VH ({data.time.dt.strftime(\"%Y-%m-%d %H:%M:%S\").values[0]})', clabel='dB')\n",
    "vvplot + vhplot"
   ]
  },
  {
   "cell_type": "code",
   "execution_count": null,
   "id": "4494682a-baad-4985-bf9e-e422f6c0081d",
   "metadata": {},
   "outputs": [],
   "source": [
    "# Subplots for each time layer for VV, with linked axes\n",
    "\n",
    "make_image(db_data.vv, clim=(-30, -3)).layout().cols(4)"
   ]
  },
  {
   "cell_type": "markdown",
   "id": "1bbb8282-3b77-43ce-a774-88b031fb94a3",
   "metadata": {},
   "source": [
    "## Make an RGB image\n",
    "\n",
    "For an RGB visualization we use the ratio between VH and VV."
   ]
  },
  {
   "cell_type": "code",
   "execution_count": null,
   "id": "be471fd9-f3e6-4872-8010-d0302c73b76e",
   "metadata": {
    "tags": []
   },
   "outputs": [],
   "source": [
    "# Add the vh/vv band\n",
    "db_data['vh_vv'] = db_data.vh / db_data.vv\n",
    "\n",
    "# Scale the measurements by their median so they have a similar range for visualization\n",
    "med = db_data / db_data.median(dim=['latitude','longitude'])\n",
    "med.persist()"
   ]
  },
  {
   "cell_type": "code",
   "execution_count": null,
   "id": "61f90777-57e0-4603-ab76-29309c6a0771",
   "metadata": {},
   "outputs": [],
   "source": [
    "# RGB plot using a DEA Tools function\n",
    "# https://github.com/GeoscienceAustralia/dea-notebooks\n",
    "# https://github.com/digitalearthafrica/deafrica-sandbox-notebooks/\n",
    "\n",
    "sys.path.append('/home/jovyan/dea-notebooks/Tools')\n",
    "from dea_tools.plotting import rgb\n",
    "\n",
    "rgb(med, bands=['vh','vv','vh_vv'], col=\"time\")"
   ]
  },
  {
   "cell_type": "code",
   "execution_count": null,
   "id": "877e1c9d-d879-49af-94e1-a2a8d2b67ae9",
   "metadata": {
    "tags": []
   },
   "outputs": [],
   "source": [
    "# Experimental - Use Holoviews\n",
    "\n",
    "# Create an RGB array, and persist it on the dask cluster\n",
    "rgb_ds = xr.concat([med.vv, med.vh, med.vh_vv], 'channel').rename('rgb').to_dataset().persist()\n",
    "\n",
    "# Plot the RGB\n",
    "rgb_plot = rgb_ds.hvplot.rgb(\n",
    "    bands='channel',\n",
    "    groupby='time', rasterize=True,\n",
    "    geo=True,\n",
    "    title='RGB', frame_height=500,\n",
    ")\n",
    "\n",
    "rgb_plot  # + vv_plot + vh_plot"
   ]
  },
  {
   "cell_type": "markdown",
   "id": "fd1df15e-31e8-4ad8-9940-e28bd6822441",
   "metadata": {},
   "source": [
    "## Export to Geotiffs\n",
    "\n",
    "Recall that to write a dask dataset to a file requires the dataset to be `.compute()`ed. This may result in a large memory increase on your JupyterLab node if the area of interest is large enough, which in turn may kill the kernel. If so then skip this step, choose a smaller area or find a different way to export data."
   ]
  },
  {
   "cell_type": "code",
   "execution_count": null,
   "id": "1347d080-74d5-491a-bb45-45252fc385ea",
   "metadata": {
    "tags": []
   },
   "outputs": [],
   "source": [
    "# Make a directory to save outputs to\n",
    "target = Path.home() / 'output'\n",
    "if not target.exists(): target.mkdir()\n",
    "\n",
    "def write_band(ds, varname):\n",
    "    \"\"\"Write the variable name of the xarray dataset to a Geotiff files for each time layer\"\"\"\n",
    "    for i in range(len(ds.time)):\n",
    "        date = ds[varname].isel(time=i).time.dt.strftime('%Y%m%d').data\n",
    "        single = ds[varname].isel(time=i).compute()\n",
    "        write_cog(geo_im=single, fname=f'{target}/example_sentinel-1_{varname}_{date}.tif', overwrite=True)\n",
    "        \n",
    "write_band(data, 'vv')\n",
    "write_band(data, 'vh')\n",
    "# write_band(rgb_da, 'rgb')"
   ]
  },
  {
   "cell_type": "code",
   "execution_count": null,
   "id": "591f8b89-c3b4-4e78-844e-dbab95b1b2e9",
   "metadata": {},
   "outputs": [],
   "source": []
  }
 ],
 "metadata": {
  "kernelspec": {
   "display_name": "Python 3 (ipykernel)",
   "language": "python",
   "name": "python3"
  },
  "language_info": {
   "codemirror_mode": {
    "name": "ipython",
    "version": 3
   },
   "file_extension": ".py",
   "mimetype": "text/x-python",
   "name": "python",
   "nbconvert_exporter": "python",
   "pygments_lexer": "ipython3",
   "version": "3.10.12"
  }
 },
 "nbformat": 4,
 "nbformat_minor": 5
}
