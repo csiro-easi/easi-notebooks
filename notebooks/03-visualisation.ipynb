{
 "cells": [
  {
   "cell_type": "markdown",
   "id": "6fac0c1d-8e2e-4375-9e21-9778e03618c5",
   "metadata": {},
   "source": [
    "# Visualisation tools <img align=\"right\" src=\"../resources/csiro_easi_logo.png\">\n",
    "\n",
    "Data visualisation helps to tell stories by curating and transforming data into a form that is easier to understand and engage with, removing the noise and highlighting useful information. \n",
    "In this notebook we will explore some of the ways you can visualise and represent your data including exploring the different code libraries in EASI, visualisation strategies and their use cases."
   ]
  },
  {
   "cell_type": "markdown",
   "id": "aa09e393-1a25-4c85-b9b5-7dfdcd2ea318",
   "metadata": {},
   "source": [
    "References:\n",
    "- [3 - Data and visualisation python libraries](https://csiroau.sharepoint.com/:w:/r/sites/LearningAcademy-ProjectFundamentals-EASIOnboarding/Shared%20Documents/EASI%20Onboarding%20-%20Collaboration/Module%20content%20and%20resources/Module%20Content/3%20-%20Data%20and%20visualisation%20python%20libraries.docx?d=wda1fadb60bdc40a191d23e7f262f92cf&csf=1&web=1&e=ofbTUn)\n",
    "- https://datashader.org/getting_started/Pipeline.html\n",
    "- https://towardsdatascience.com/an-incomplete-guide-to-accessible-data-visualization-33f15bfcc400\n",
    "- https://www.highcharts.com/blog/tutorials/10-guidelines-for-dataviz-accessibility/\n",
    "- https://it.wisc.edu/learn/make-it-accessible/accessible-data-visualizations/"
   ]
  },
  {
   "cell_type": "markdown",
   "id": "e30dc369-59da-4e9e-a07e-531eceabe0af",
   "metadata": {},
   "source": [
    "### Selection of python visualisation libraries available in EASI\n",
    "\n",
    "- Plotly\n",
    "- Folium\n",
    "- Seaborn"
   ]
  },
  {
   "cell_type": "markdown",
   "id": "1afc6f27-9175-4121-9c7a-8e5ec1864afe",
   "metadata": {},
   "source": [
    "## Imports"
   ]
  },
  {
   "cell_type": "code",
   "execution_count": null,
   "id": "a5492b77-e614-4ca1-9a4d-412f6eb96b21",
   "metadata": {},
   "outputs": [],
   "source": [
    "# Common imports and settings\n",
    "import os, sys\n",
    "os.environ['USE_PYGEOS'] = '0'\n",
    "from IPython.display import Markdown\n",
    "import pandas as pd\n",
    "pd.set_option(\"display.max_rows\", None)\n",
    "import xarray as xr\n",
    "\n",
    "# Datacube\n",
    "import datacube\n",
    "from datacube.utils.rio import configure_s3_access\n",
    "import odc.geo.xr                                  # https://github.com/opendatacube/odc-geo\n",
    "from datacube.utils import masking  # https://github.com/opendatacube/datacube-core/blob/develop/datacube/utils/masking.py\n",
    "from odc.algo import enum_to_bool                  # https://github.com/opendatacube/odc-tools/blob/develop/libs/algo/odc/algo/_masking.py\n",
    "from dea_tools.plotting import display_map, rgb    # https://github.com/GeoscienceAustralia/dea-notebooks/tree/develop/Tools\n",
    "\n",
    "# Dask\n",
    "from dask.distributed import Client, LocalCluster\n",
    "\n",
    "# EASI defaults\n",
    "import git\n",
    "repo = git.Repo('.', search_parent_directories=True)\n",
    "if repo.working_tree_dir not in sys.path: sys.path.append(repo.working_tree_dir)\n",
    "from easi_tools import EasiDefaults\n",
    "from easi_tools.notebook_utils import mostcommon_crs, initialize_dask, localcluster_dashboard, heading\n",
    "from easi_tools.load_s2l2a import load_s2l2a_with_offset"
   ]
  },
  {
   "cell_type": "code",
   "execution_count": null,
   "id": "ec5396bc-1e70-4f1c-8919-9639ff421d1e",
   "metadata": {},
   "outputs": [],
   "source": [
    "# EASI defaults\n",
    "easi = EasiDefaults()\n",
    "\n",
    "family = 'sentinel-2'\n",
    "product = easi.product(family)\n",
    "display(Markdown(f'Default {family} product for \"{easi.name}\": [{product}]({easi.explorer}/products/{product})'))"
   ]
  },
  {
   "cell_type": "code",
   "execution_count": null,
   "id": "45d3cdfa-e113-4442-b661-edfd5e3cd89b",
   "metadata": {},
   "outputs": [],
   "source": [
    "# Local cluster\n",
    "cluster = LocalCluster(n_workers=2, threads_per_worker=4)\n",
    "client = Client(cluster)\n",
    "display(client)\n",
    "\n",
    "dashboard_address = localcluster_dashboard(client=client,server=easi.hub)\n",
    "display(f'Dashboard: {dashboard_address}')"
   ]
  },
  {
   "cell_type": "markdown",
   "id": "05961b44-aecd-4bd8-aa58-b2ba497da7cf",
   "metadata": {},
   "source": [
    "### Example data"
   ]
  },
  {
   "cell_type": "code",
   "execution_count": null,
   "id": "d11cfdf5-bc53-4885-95fd-05f9d9cf3715",
   "metadata": {},
   "outputs": [],
   "source": [
    "# Datacube (Xarray)\n",
    "dc = datacube.Datacube()\n",
    "configure_s3_access(aws_unsigned=False, requester_pays=True, client=client);\n",
    "\n",
    "# Default area of interest\n",
    "display(Markdown(f'#### Location: {easi.location}'))\n",
    "display(Markdown(f'See: {easi.explorer}/products/{product}'))\n",
    "\n",
    "latitude_range = easi.latitude\n",
    "longitude_range = easi.longitude\n",
    "time_range = easi.time\n",
    "# Or set your own latitude / longitude\n",
    "# latitude_range = (21.5, 23.5)\n",
    "# longitude_range = (88, 90.8)\n",
    "# time_range = ('2022-01-01', '2022-03-01')\n",
    "\n",
    "query = {\n",
    "    'product': product,       # Product name\n",
    "    'x': longitude_range,     # \"x\" axis bounds\n",
    "    'y': latitude_range,      # \"y\" axis bounds\n",
    "    'time': time_range,       # Any parsable date strings\n",
    "}\n",
    "\n",
    "# Most common CRS\n",
    "native_crs = mostcommon_crs(dc, query)\n",
    "print(f'Most common native CRS: {native_crs}')\n",
    "\n",
    "# Measurement aliases\n",
    "alias = easi.aliases(family)\n",
    "measurements = [alias[x] for x in ['blue', 'red', 'green', 'nir', 'scl']]\n",
    "\n",
    "# Target xarray parameters\n",
    "load_params = {\n",
    "    'measurements': measurements,  # Selected measurement or alias names\n",
    "    'output_crs': native_crs,                       # Target EPSG code\n",
    "    'resolution': (-20, 20),                        # Target resolution\n",
    "    'group_by': 'solar_day',                        # Scene grouping\n",
    "    'dask_chunks': {'x': 2048, 'y': 2048},          # Dask chunks\n",
    "}\n",
    "\n",
    "# Load data\n",
    "xr_data = dc.load(**(query | load_params))\n",
    "\n",
    "# Mask and scale (not yet generic across EASIs)\n",
    "# measurement_info = dc.list_measurements().loc[query['product']]\n",
    "# for vv in xr_data.data_vars:\n",
    "#     scale = measurement_info.loc[vv,'scale_factor']\n",
    "#     offset = measurement_info.loc[vv,'add_offset']\n",
    "#     if not pd.isnull(scale) and not pd.isnull(offset):\n",
    "#         xr_data[vv] = xr_data[vv] * scale + offset\n",
    "\n",
    "# Calculate with .persist()\n",
    "# TODO\n",
    "\n",
    "display(xr_data)"
   ]
  },
  {
   "cell_type": "code",
   "execution_count": null,
   "id": "8c75abdb-e110-47f0-8bce-ba5961e6213f",
   "metadata": {},
   "outputs": [],
   "source": [
    "# Geojson (Pandas)"
   ]
  },
  {
   "cell_type": "code",
   "execution_count": null,
   "id": "c8b65570-b472-42c2-9de6-a6eda5d395e4",
   "metadata": {},
   "outputs": [],
   "source": [
    "# Web data (WMS/WCS)"
   ]
  },
  {
   "cell_type": "markdown",
   "id": "c55c96d9-02e5-4c31-b8ac-278b19b946ab",
   "metadata": {},
   "source": [
    "## Matplotlib\n",
    "\n",
    "Further information\n",
    "\n",
    "- https://docs.xarray.dev/en/latest/user-guide/plotting.html"
   ]
  },
  {
   "cell_type": "code",
   "execution_count": null,
   "id": "6a58606a-a27a-4bad-aeb9-90af290aa5b8",
   "metadata": {},
   "outputs": [],
   "source": [
    "%matplotlib inline\n",
    "import matplotlib.pyplot as plt"
   ]
  },
  {
   "cell_type": "code",
   "execution_count": null,
   "id": "2614a91e-656c-4f5f-b50d-3deb28e207eb",
   "metadata": {},
   "outputs": [],
   "source": [
    "# Basic plot\n",
    "# - The default 'backend' for xarray.plot is 'matplotlib'\n",
    "\n",
    "# Select a 2D xarray grid for matplotlib\n",
    "# - Xarray will label axes and title if it can\n",
    "xr_data.red.isel(time=0).plot()   # The red band, first time slice, default colourbar for the data range"
   ]
  },
  {
   "cell_type": "code",
   "execution_count": null,
   "id": "94dc0a4a-a08d-4851-950e-77431de3b2c8",
   "metadata": {},
   "outputs": [],
   "source": [
    "# Subplots\n",
    "\n",
    "xr_data.red.plot(col=\"time\", col_wrap=4)    # The red band, all time slices one per subplot, default colourbar for the data range"
   ]
  },
  {
   "cell_type": "code",
   "execution_count": null,
   "id": "c274c458-0d9b-4421-93d5-aa743f989a2c",
   "metadata": {},
   "outputs": [],
   "source": [
    "# Setting options\n",
    "\n",
    "# plt.rcParams['figure.figsize'] = [12, 8]"
   ]
  },
  {
   "cell_type": "code",
   "execution_count": null,
   "id": "2e18351d-f642-48d6-bf96-8fc5c37f640d",
   "metadata": {},
   "outputs": [],
   "source": [
    "# Export"
   ]
  },
  {
   "cell_type": "markdown",
   "id": "963637ad-cd92-4edf-80c2-ffac5251c0a3",
   "metadata": {},
   "source": [
    "## Hvplot\n",
    "\n",
    "- Hvplot\n",
    "- Holoviews\n",
    "- Datashader"
   ]
  },
  {
   "cell_type": "code",
   "execution_count": null,
   "id": "45fc8d48-8c10-4628-99e9-0d93734afd0d",
   "metadata": {},
   "outputs": [],
   "source": [
    "# Holoviews, Datashader and Bokeh\n",
    "import hvplot.pandas\n",
    "import hvplot.xarray\n",
    "import panel as pn\n",
    "import colorcet as cc\n",
    "import cartopy.crs as ccrs\n",
    "from datashader import reductions\n",
    "from holoviews import opts\n",
    "# hv.extension('bokeh', logo=False)"
   ]
  },
  {
   "cell_type": "code",
   "execution_count": null,
   "id": "64e59388-6be7-4614-9975-a83452f50408",
   "metadata": {},
   "outputs": [],
   "source": [
    "# Basic plot"
   ]
  },
  {
   "cell_type": "code",
   "execution_count": null,
   "id": "591ad443-a202-44cc-81c4-97a387f138d8",
   "metadata": {},
   "outputs": [],
   "source": [
    "# Groups"
   ]
  },
  {
   "cell_type": "code",
   "execution_count": null,
   "id": "b8eb5e33-2d00-425f-8077-ee08bd125fd0",
   "metadata": {},
   "outputs": [],
   "source": [
    "# Setting options"
   ]
  },
  {
   "cell_type": "code",
   "execution_count": null,
   "id": "8fd84e53-8e70-4ec3-989d-0b100887025c",
   "metadata": {},
   "outputs": [],
   "source": [
    "# Export"
   ]
  },
  {
   "cell_type": "markdown",
   "id": "6654e738-ae78-4cf4-bf8b-d09a1ae65c21",
   "metadata": {},
   "source": [
    "## Interactive plots\n",
    "\n",
    "- Panel\n",
    "- Plotly\n",
    "- Bokeh"
   ]
  },
  {
   "cell_type": "code",
   "execution_count": null,
   "id": "3f85a33a-6dad-4453-96ad-bb00275d44ad",
   "metadata": {},
   "outputs": [],
   "source": [
    "# Example: Hvplot and Panel"
   ]
  },
  {
   "cell_type": "markdown",
   "id": "2a7498fe-da7d-4f73-92cd-55fa30c41133",
   "metadata": {},
   "source": [
    "## Dashboards\n",
    "\n",
    "To prototype a data driven web site and user interface.\n",
    "\n",
    "- Streamlit"
   ]
  },
  {
   "cell_type": "code",
   "execution_count": null,
   "id": "3c39321e-6a9b-44c6-b6e5-b277caabaf1a",
   "metadata": {},
   "outputs": [],
   "source": []
  }
 ],
 "metadata": {
  "kernelspec": {
   "display_name": "Python 3 (ipykernel)",
   "language": "python",
   "name": "python3"
  },
  "language_info": {
   "codemirror_mode": {
    "name": "ipython",
    "version": 3
   },
   "file_extension": ".py",
   "mimetype": "text/x-python",
   "name": "python",
   "nbconvert_exporter": "python",
   "pygments_lexer": "ipython3",
   "version": "3.10.12"
  }
 },
 "nbformat": 4,
 "nbformat_minor": 5
}
