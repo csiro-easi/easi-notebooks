{
 "cells": [
  {
   "cell_type": "markdown",
   "id": "1f47c2fa-32af-4ff1-8563-35605ee42edb",
   "metadata": {},
   "source": [
    "# Data storage and locality <img align=\"right\" src=\"../resources/csiro_easi_logo.png\">\n",
    "\n",
    "This notebook introduces new users to working with data in EASI."
   ]
  },
  {
   "cell_type": "code",
   "execution_count": null,
   "id": "d6086cd9-5a98-4f18-a451-d311b46ae9f7",
   "metadata": {},
   "outputs": [],
   "source": []
  }
 ],
 "metadata": {
  "kernelspec": {
   "display_name": "Python 3 (ipykernel)",
   "language": "python",
   "name": "python3"
  },
  "language_info": {
   "codemirror_mode": {
    "name": "ipython",
    "version": 3
   },
   "file_extension": ".py",
   "mimetype": "text/x-python",
   "name": "python",
   "nbconvert_exporter": "python",
   "pygments_lexer": "ipython3",
   "version": "3.10.6"
  }
 },
 "nbformat": 4,
 "nbformat_minor": 5
}
