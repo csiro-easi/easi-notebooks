{
 "cells": [
  {
   "cell_type": "markdown",
   "id": "6fac0c1d-8e2e-4375-9e21-9778e03618c5",
   "metadata": {},
   "source": [
    "# Visualisation tools <img align=\"right\" src=\"../resources/csiro_easi_logo.png\">\n",
    "\n",
    "This notebook introduces new users to working with data visualisation in EASI"
   ]
  },
  {
   "cell_type": "code",
   "execution_count": null,
   "id": "cc4f77e5-0651-412f-930e-5d75a55fbd62",
   "metadata": {},
   "outputs": [],
   "source": []
  }
 ],
 "metadata": {
  "kernelspec": {
   "display_name": "Python 3 (ipykernel)",
   "language": "python",
   "name": "python3"
  },
  "language_info": {
   "codemirror_mode": {
    "name": "ipython",
    "version": 3
   },
   "file_extension": ".py",
   "mimetype": "text/x-python",
   "name": "python",
   "nbconvert_exporter": "python",
   "pygments_lexer": "ipython3",
   "version": "3.10.6"
  }
 },
 "nbformat": 4,
 "nbformat_minor": 5
}
