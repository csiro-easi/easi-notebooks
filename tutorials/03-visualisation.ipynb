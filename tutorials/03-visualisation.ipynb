{
 "cells": [
  {
   "cell_type": "markdown",
   "id": "6fac0c1d-8e2e-4375-9e21-9778e03618c5",
   "metadata": {},
   "source": [
    "# Visualisation tools <img align=\"right\" src=\"../resources/csiro_easi_logo.png\">\n",
    "\n",
    "This notebook introduces new users to working with data visualisation in EASI"
   ]
  },
  {
   "cell_type": "markdown",
   "id": "e0243bff-4438-4dc2-bb16-55920e9779fa",
   "metadata": {},
   "source": [
    "See [3 - Data and visualisation python libraries](https://csiroau.sharepoint.com/:w:/r/sites/LearningAcademy-ProjectFundamentals-EASIOnboarding/Shared%20Documents/EASI%20Onboarding%20-%20Collaboration/Module%20content%20and%20resources/Module%20Content/3%20-%20Data%20and%20visualisation%20python%20libraries.docx?d=wda1fadb60bdc40a191d23e7f262f92cf&csf=1&web=1&e=ofbTUn)"
   ]
  },
  {
   "cell_type": "code",
   "execution_count": null,
   "id": "9363b360-70ee-443a-9531-01e10717702d",
   "metadata": {},
   "outputs": [],
   "source": []
  }
 ],
 "metadata": {
  "kernelspec": {
   "display_name": "Python 3 (ipykernel)",
   "language": "python",
   "name": "python3"
  },
  "language_info": {
   "codemirror_mode": {
    "name": "ipython",
    "version": 3
   },
   "file_extension": ".py",
   "mimetype": "text/x-python",
   "name": "python",
   "nbconvert_exporter": "python",
   "pygments_lexer": "ipython3",
   "version": "3.10.6"
  }
 },
 "nbformat": 4,
 "nbformat_minor": 5
}
