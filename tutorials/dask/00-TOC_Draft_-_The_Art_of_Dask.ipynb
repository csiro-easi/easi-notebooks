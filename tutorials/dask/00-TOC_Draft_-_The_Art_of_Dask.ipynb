{
 "cells": [
  {
   "cell_type": "markdown",
   "id": "82c16d9c-d33f-4bd1-8b2b-bbc994f5a3ba",
   "metadata": {},
   "source": [
    "## On Tasks\n",
    "\n",
    "## Data Locality matters\n",
    "e.g. matplotlib\n",
    "## Scaling up\n",
    "## map_blocks and map_overlap\n",
    "## ODC Grid Workflow\n",
    "## Common misunderstandings\n",
    "xarray - dask - futures/delayed/array/data frame\n",
    "\n",
    "## Best Practices\n"
   ]
  },
  {
   "cell_type": "markdown",
   "id": "f4a51b06-ea26-4326-9eba-29dc22f240cc",
   "metadata": {
    "tags": []
   },
   "source": [
    "## Best Practices"
   ]
  },
  {
   "cell_type": "markdown",
   "id": "612093cd-8180-4748-a89d-49a5ea16665f",
   "metadata": {
    "tags": []
   },
   "source": [
    "### Avoid to many tasks"
   ]
  },
  {
   "cell_type": "code",
   "execution_count": null,
   "id": "a455be9b-a052-476b-86f3-4450a1be2058",
   "metadata": {},
   "outputs": [],
   "source": [
    "# Too many tasks\n",
    "results = []\n",
    "for x in range(10000000):\n",
    "    y = dask.delayed(f)(x)\n",
    "    results.append(y)\n",
    "# Use collections\n",
    "import dask.bag as db\n",
    "b = db.from_sequence(range(10000000), npartitions=1000)\n",
    "b = b.map(f)"
   ]
  },
  {
   "cell_type": "markdown",
   "id": "07ae4098-cee1-4f73-949d-67da35855350",
   "metadata": {
    "tags": []
   },
   "source": [
    "### Avoid repeatedly putting large inputs into delayed calls\n",
    "Every time you pass a concrete result (anything that isn’t delayed) Dask will hash it by default to give it a name. This is fairly fast (around 500 MB/s) but can be slow if you do it over and over again. Instead, it is better to delay your data as well.\n",
    "\n",
    "This is especially important when using a distributed cluster to avoid sending your data separately for each function call.\n",
    "\n",
    "This applies to compute() as well...."
   ]
  },
  {
   "cell_type": "code",
   "execution_count": null,
   "id": "cdb6c686-6c06-4aa9-af81-a5cf1cee7b6b",
   "metadata": {},
   "outputs": [],
   "source": [
    "# don't\n",
    "x = np.array(...)  # some large array\n",
    "\n",
    "results = [dask.delayed(train)(x, i)\n",
    "           for i in range(1000)]\n",
    "# Do\n",
    "x = np.array(...)    # some large array\n",
    "x = dask.delayed(x)  # delay the data once\n",
    "results = [dask.delayed(train)(x, i)\n",
    "           for i in range(1000)]"
   ]
  }
 ],
 "metadata": {
  "kernelspec": {
   "display_name": "Python 3 (ipykernel)",
   "language": "python",
   "name": "python3"
  },
  "language_info": {
   "codemirror_mode": {
    "name": "ipython",
    "version": 3
   },
   "file_extension": ".py",
   "mimetype": "text/x-python",
   "name": "python",
   "nbconvert_exporter": "python",
   "pygments_lexer": "ipython3",
   "version": "3.8.10"
  }
 },
 "nbformat": 4,
 "nbformat_minor": 5
}
