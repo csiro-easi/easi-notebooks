{
 "cells": [
  {
   "cell_type": "markdown",
   "metadata": {},
   "source": [
    "# Welcome to EASI <img align=\"right\" src=\"../resources/csiro_easi_logo.png\">\n",
    "\n",
    "This notebook introduces new users to working with EASI notebooks and the Open Data Cube.\n",
    "\n",
    "It will demonstrate the following basic functionality:\n",
    "- [Notebook setup](#Notebook-setup)\n",
    "- [Connect to the OpenDataCube](#Connect-to-the-OpenDataCube)\n",
    "  - [List products](#List-products)\n",
    "  - [List measurements](#List-measurements)\n",
    "  - [Choose a region of interest](#Choose-a-region-of-interest)\n",
    "  - [Load data](#Load-data)\n",
    "  - [Plot data](#Plot-data)\n",
    "  - [Masking and Scaling](#Masking-and-Scaling)\n",
    "  - [Perform a calculation on the data](#Perform-a-calculation-on-the-data)\n",
    "  - [Save the results to a file](#Save-the-results-to-file)\n",
    "- [Summary](#Summary)\n",
    "- [Further reading](#Further-reading)"
   ]
  },
  {
   "cell_type": "markdown",
   "metadata": {
    "tags": []
   },
   "source": [
    "## Notebook setup\n",
    "\n",
    "A notebook consists of cells that contain either text descriptions or python code for performing operations on data.\n",
    "\n",
    "1. Start by clicking on the cell below to select it.\n",
    "1. Execute a selected cell, or each cell in sequence, by clicking the &#9654; button (in the notebook toolbar above) or pressing `Shift`+`Enter`.\n",
    "1. Each cell will show an asterisk icon <font color='#999'>[*]:</font> when it is running. Once this changes to a number, the cell has finished.\n",
    "1. The cell below imports packages to use and sets some formatting options."
   ]
  },
  {
   "cell_type": "code",
   "execution_count": null,
   "metadata": {},
   "outputs": [],
   "source": [
    "# Basic plots\n",
    "%matplotlib inline\n",
    "import matplotlib.pyplot as plt\n",
    "# plt.rcParams['figure.figsize'] = [12, 8]\n",
    "\n",
    "# Common imports and settings\n",
    "import os, sys\n",
    "from IPython.display import Markdown\n",
    "import pandas as pd\n",
    "pd.set_option(\"display.max_rows\", None)\n",
    "import xarray as xr\n",
    "\n",
    "# Datacube\n",
    "import datacube\n",
    "from datacube.utils.rio import configure_s3_access\n",
    "from dea_tools.plotting import display_map, rgb  # https://github.com/GeoscienceAustralia/dea-notebooks/tree/develop/Tools\n",
    "\n",
    "# EASI tools\n",
    "repo = f'{os.environ[\"HOME\"]}/easi-notebooks'  # No easy way to get repo directory\n",
    "if repo not in sys.path: sys.path.append(repo)\n",
    "from easi_tools import EasiNotebooks, xarray_object_size"
   ]
  },
  {
   "cell_type": "markdown",
   "metadata": {},
   "source": [
    "## Select an EASI environment\n",
    "\n",
    "Each EASI deployment has a different set of products in its opendatacube database. We introduce a set of defaults to allow these training notebooks to be used between EASI deployments.\n",
    "\n",
    "For this notebook we select the default **Landsat** product."
   ]
  },
  {
   "cell_type": "code",
   "execution_count": null,
   "metadata": {
    "tags": []
   },
   "outputs": [],
   "source": [
    "this = EasiNotebooks('csiro')\n",
    "\n",
    "product = this.product('landsat')\n",
    "display(Markdown(f'Default landsat product for \"{this.name}\": [{product}]({this.explorer}/products/{product})'))"
   ]
  },
  {
   "cell_type": "markdown",
   "metadata": {},
   "source": [
    "## Connect to the Open Data Cube\n",
    "\n",
    "The `Datacube()` API provides search, load and information functions for data products *indexed* in an ODC database. More information on the Open Data Cube software:\n",
    "\n",
    "- https://datacube-core.readthedocs.io/en/latest/.\n",
    "- https://github.com/opendatacube/datacube-core"
   ]
  },
  {
   "cell_type": "code",
   "execution_count": null,
   "metadata": {},
   "outputs": [],
   "source": [
    "dc = datacube.Datacube()\n",
    "\n",
    "# Access AWS \"requester-pays\" buckets\n",
    "# This is necessary for reading data from most thrid-party AWS S3 buckets\n",
    "from datacube.utils.aws import configure_s3_access\n",
    "configure_s3_access(aws_unsigned=False, requester_pays=True);"
   ]
  },
  {
   "cell_type": "markdown",
   "metadata": {},
   "source": [
    "### List products\n",
    "Show all available products in the ODC database and list them along with selected properties.\n",
    "\n",
    "Additionally view available products, data coverage, **product definitions**, dimensions, metadata and paths to the files in the corresponding **ODC Explorer** website."
   ]
  },
  {
   "cell_type": "code",
   "execution_count": null,
   "metadata": {},
   "outputs": [],
   "source": [
    "display(Markdown(f'### See: {this.explorer}'))\n",
    "\n",
    "products = dc.list_products()  # Pandas DataFrame\n",
    "products"
   ]
  },
  {
   "cell_type": "markdown",
   "metadata": {},
   "source": [
    "### List measurements\n",
    "\n",
    "The data arrays for each product are called **measurements**. List the measurements of a product. The columns are selected attributes or metadata for each measurement."
   ]
  },
  {
   "cell_type": "code",
   "execution_count": null,
   "metadata": {},
   "outputs": [],
   "source": [
    "measurements = dc.list_measurements()  # Pandas DataFrame, all products\n",
    "measurements.loc[[product]]"
   ]
  },
  {
   "cell_type": "markdown",
   "metadata": {},
   "source": [
    "### Choose an area of interest\n",
    "\n",
    "Choose an area of interest with `latitude`/`longitude` bounds. The `display_map` function will draw a map with the bounding box highlighted. See also the Explorer website for the available *latitude*, *longitude* and *time* ranges for each product.\n",
    "\n",
    "> Feel free to change the `latitude`/`longitude` or `time` ranges of the query below. "
   ]
  },
  {
   "cell_type": "code",
   "execution_count": null,
   "metadata": {
    "tags": []
   },
   "outputs": [],
   "source": [
    "# Default area of interest\n",
    "\n",
    "display(Markdown(f'### Location: {this.location}'))\n",
    "display(Markdown(f'See: {this.explorer}/products/{product}'))\n",
    "\n",
    "latitude = this.latitude\n",
    "longitude = this.longitude\n",
    "\n",
    "# Or set your own latitude / longitude\n",
    "# latitude = (-36.3, -35.8)\n",
    "# longitude = (146.8, 147.3)\n",
    "\n",
    "display_map(longitude, latitude)"
   ]
  },
  {
   "cell_type": "markdown",
   "metadata": {},
   "source": [
    "### Load data \n",
    "Load product data for a given latitude, longitude and time range. The `datacube.load()` function returns an **xarray.Dataset** object.\n",
    "\n",
    "- The `output_crs` and `resolution` parameters allow for remapping to a new grid. These will be required if default values are not defined for the product (see *measurement* attributes).\n",
    "- The `datacube.load()` function does not apply missing values or scaling attributes. These are left to the user's discretion and requirements.\n",
    "\n",
    "Once you have an xarray object this can be used with many Python packages.\n",
    "\n",
    "> **Exercise**: We normally load only the measurements that we intend to use. Load a selected set of measurements names and consider the result.\n",
    "\n",
    "**What is the size of my dataset?**\n",
    "\n",
    "The `display(data)` view is a convenient way to check the data request size, shape and attributes.\n",
    "\n",
    "- Click the various arrows and icons in the *xarray.Dataset* output from the previous cell to reveal information about your data.\n",
    "\n",
    "The `data.nbytes` property returns the number of bytes in the xarray Dataset of DataArray. We have a function that formats this value for convenience.\n",
    "\n",
    "Further information on **xarray**:\n",
    "\n",
    "- https://tutorial.xarray.dev/overview/xarray-in-45-min.html\n",
    "- https://xarray.pydata.org/en/stable/user-guide/data-structures.html"
   ]
  },
  {
   "cell_type": "code",
   "execution_count": null,
   "metadata": {},
   "outputs": [],
   "source": [
    "# A standard datacube.load() call.\n",
    "# This may take a few minutes while the data are loaded into JupyterLab (so choose a small area and time range).\n",
    "\n",
    "data = dc.load(\n",
    "    product = product, \n",
    "    latitude = latitude,\n",
    "    longitude = longitude,\n",
    "    time = this.time,\n",
    "    \n",
    "    # measurements = ['red', 'green', 'blue']  # List of selected measurement names (or aliases)\n",
    "    # output_crs = 'epsg:3577',                # Target CRS\n",
    "    # resolution = (30, -30),                  # Target resolution\n",
    "    # dask_chunks = {'x':2048, 'y':2048),      # Dask chunk size. Requires a dask cluster (see the \"tutorials/dask\" notebooks)\n",
    "    group_by = 'solar_day',                    # Group by day method\n",
    ")\n",
    "\n",
    "display(data)\n",
    "\n",
    "display(f'Number of bytes: {data.nbytes}')\n",
    "display(xarray_object_size(data))"
   ]
  },
  {
   "cell_type": "markdown",
   "metadata": {},
   "source": [
    "### Plot the data\n",
    "Plot the measurement data for a set of timesteps. The `xarray.plot()` function can simplify the rendering of plots by using the labelled dimensions and data ranges automatically. \n",
    "\n",
    "- The [robust](https://docs.xarray.dev/en/stable/user-guide/plotting.html#robust) option excludes outliers when calculating the colour limts for a more consistent result across subplots (time layers in this case)."
   ]
  },
  {
   "cell_type": "code",
   "execution_count": null,
   "metadata": {},
   "outputs": [],
   "source": [
    "# Select a data variable (measurement) name\n",
    "band = this.default_band(product)\n",
    "\n",
    "# Xarray simple array plotting\n",
    "data[band].plot(col=\"time\", robust=True, col_wrap=4);"
   ]
  },
  {
   "cell_type": "markdown",
   "metadata": {
    "tags": []
   },
   "source": [
    "### Masking and Scaling\n",
    "\n",
    "Masking and scaling are examples of applying additional functions to the *xarray* data.\n",
    "\n",
    "Many ODC products include a \"quality\" array that can be used to filter the measurement arrays. For example, most quality layers include a \"cloud\" confidence quality flag that can be used to remove pixels affected by clouds from further analysis. ODC products may also include scale and offset factors to transform the array values to scientific values.\n",
    "\n",
    "Masking and scaling details are specific to each *product* and *measurement* chosen. We bypass this step in this introduction notebook, and instead we direct users to product-specific notebooks that contain the appropriate details."
   ]
  },
  {
   "cell_type": "markdown",
   "metadata": {},
   "source": [
    "### Perform a calculation on the data\n",
    "As a simple example, we calculate the [Normalized Difference Vegetation Index (NDVI)](https://en.wikipedia.org/wiki/Normalized_difference_vegetation_index)."
   ]
  },
  {
   "cell_type": "code",
   "execution_count": null,
   "metadata": {},
   "outputs": [],
   "source": [
    "# Calculate the NDVI\n",
    "band_diff = filtered_data.nir08 - filtered_data.red\n",
    "band_sum = filtered_data.nir08 + filtered_data.red\n",
    "ndvi = band_diff / band_sum\n",
    "\n",
    "# Plot the masked NDVI\n",
    "ndvi.plot(col=\"time\", robust=True, col_wrap=4, vmin=0, vmax=0.7, cmap='RdYlGn');"
   ]
  },
  {
   "cell_type": "markdown",
   "metadata": {},
   "source": [
    "### Save the results to file\n",
    "After processing the data we can then save the output to a file that can then be imported into other applications for further analysis or publication if required.\n",
    "\n",
    "The file will be saved to your home directory and appear on the File Browser panel to the left. You may need to select the `folder` icon to go to the top level (`/home/jovyan/`).\n",
    "\n",
    "Download a file by `'right-click' Download`."
   ]
  },
  {
   "cell_type": "code",
   "execution_count": null,
   "metadata": {},
   "outputs": [],
   "source": [
    "# Xarray can save the data to a netCDF file\n",
    "\n",
    "ndvi.time.attrs.pop('units', None)  # Xarray re-applies this\n",
    "ndvi.to_netcdf(\"/home/jovyan/landsat8_sr_ndvi.nc\")"
   ]
  },
  {
   "cell_type": "code",
   "execution_count": null,
   "metadata": {},
   "outputs": [],
   "source": [
    "# Or export to geotiff using rioxarray.\n",
    "\n",
    "import rioxarray\n",
    "ndvi.isel(time=0).rio.to_raster(\"/home/jovyan/landsat8_sr_ndvi.tif\")  # Single time slices"
   ]
  },
  {
   "cell_type": "markdown",
   "metadata": {},
   "source": [
    "## Summary\n",
    "\n",
    "This notebook introduced the main steps for querying data (with `Datacube`), and filtering, plotting, calculating and saving a \"cube\" of data (with `Xarray`).\n",
    "\n",
    "There is plenty of detail and options to explore so please work through the other notebooks to learn more and refer back to these notebooks when required. We encourage you to create or bring your own notebooks, and adapt notebooks from other [open-license repositories](https://docs.asia.easi-eo.solutions/user-guide/users-guide/03-using-notebooks/#other-available-odc-notebooks)."
   ]
  },
  {
   "cell_type": "code",
   "execution_count": null,
   "metadata": {},
   "outputs": [],
   "source": [
    "rgb(filtered_data.isel(time=2), ['red', 'green', 'blue'])"
   ]
  },
  {
   "cell_type": "markdown",
   "metadata": {},
   "source": [
    "## Further reading \n",
    "\n",
    "#### JupyterLab\n",
    "\n",
    "> *Recommended level: Familiarity with notebooks.*\n",
    "\n",
    "The JupyterLab website has excellent documentation including video instructions. We recommend users take a few minutes to orientate themselves with the use and features of JupyterLab.\n",
    "\n",
    "- Getting started: [https://jupyterlab.readthedocs.io/en/stable/getting_started/overview.html](https://jupyterlab.readthedocs.io/en/stable/getting_started/overview.html)\n",
    "- Drag and drop upload of files: [https://jupyterlab.readthedocs.io/en/stable/user/files.html](https://jupyterlab.readthedocs.io/en/stable/user/files.html)\n",
    "\n",
    "#### Open Data Cube\n",
    "\n",
    "- [ODC documentation](https://datacube-core.readthedocs.io/en/latest)\n",
    "- [ODC github](https://github.com/opendatacube)\n",
    "\n",
    "#### Python\n",
    "\n",
    "> *Recommended level: Basic Python knowledge and familiarity with array manipulations, __numpy__ and __xarray__. Familiarity with some plotting libraries (e.g., __matplotlib__) would also help.*\n",
    "\n",
    "There are many options for learning Python from online resources to in-house or facilitated training. Some examples are offered here with no suggestion that EASI endorses any of them.\n",
    "\n",
    "- [https://www.python.org/about/gettingstarted](https://www.python.org/about/gettingstarted/)\n",
    "- Learn Python tutorials: [https://www.learnpython.org](https://www.learnpython.org/)\n",
    "- Data Camp: [https://www.datacamp.com](https://www.datacamp.com/)\n",
    "- David Beazley courses: [https://dabeaz-course.github.io/practical-python](https://dabeaz-course.github.io/practical-python/)\n",
    "- Python Charmers: [https://pythoncharmers.com](https://pythoncharmers.com/)\n",
    "\n",
    "Background for selected libraries:\n",
    "\n",
    "- Numpy: [https://numpy.org/doc/stable/user/quickstart.html](https://numpy.org/doc/stable/user/quickstart.html)\n",
    "- Xarray: [http://xarray.pydata.org/en/stable/user-guide/data-structures.html](http://xarray.pydata.org/en/stable/user-guide/data-structures.html)\n",
    "- Xarray: [https://towardsdatascience.com/basic-data-structures-of-xarray-80bab8094efa](https://towardsdatascience.com/basic-data-structures-of-xarray-80bab8094efa)\n",
    "- Pandas: [https://pandas.pydata.org/docs/getting_started/index.html](https://pandas.pydata.org/docs/getting_started/index.html)\n",
    "\n",
    "#### Git\n",
    "\n",
    "> *Recommended level: Basic understanding of concepts such as __clone__, __add__, __commit__ and __push__ would help.*\n",
    "\n",
    "Git is a document version control system. It retains a full history of changes to all files (including deleted ones) by tracking incremental changes and recording a history timeline of changes. Changes you make append to the history timeline. Git allows you to copy (\"clone\") a repository, make changes to files, and \"commit\" and \"push\" these changes back to the source repository.\n",
    "\n",
    "The best way to learn Git is by practice and incrementally; start with simple, common actions and gain more knowledge when required. Some useful Git links are:\n",
    "\n",
    "- Getting started: [https://git-scm.com/doc](https://git-scm.com/doc)\n",
    "- Using the JupyterLab Git extension: [https://annefou.github.io/jupyter_publish/02-git/index.html](https://annefou.github.io/jupyter_publish/02-git/index.html)\n",
    "- DEA Git guide: [https://github.com/GeoscienceAustralia/dea-notebooks/wiki/Guide-to-using-DEA-Notebooks-with-git](https://github.com/GeoscienceAustralia/dea-notebooks/wiki/Guide-to-using-DEA-Notebooks-with-git)\n",
    "- Undoing things guide: [https://git-scm.com/book/en/v2/Git-Basics-Undoing-Things](https://git-scm.com/book/en/v2/Git-Basics-Undoing-Things)\n",
    "- Understanding branches: [https://nvie.com/posts/a-successful-git-branching-model](https://nvie.com/posts/a-successful-git-branching-model)"
   ]
  },
  {
   "cell_type": "code",
   "execution_count": null,
   "metadata": {},
   "outputs": [],
   "source": []
  }
 ],
 "metadata": {
  "kernelspec": {
   "display_name": "Python 3 (ipykernel)",
   "language": "python",
   "name": "python3"
  },
  "language_info": {
   "codemirror_mode": {
    "name": "ipython",
    "version": 3
   },
   "file_extension": ".py",
   "mimetype": "text/x-python",
   "name": "python",
   "nbconvert_exporter": "python",
   "pygments_lexer": "ipython3",
   "version": "3.10.6"
  }
 },
 "nbformat": 4,
 "nbformat_minor": 4
}
