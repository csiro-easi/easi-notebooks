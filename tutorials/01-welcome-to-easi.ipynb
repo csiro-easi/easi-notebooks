{
 "cells": [
  {
   "cell_type": "markdown",
   "metadata": {},
   "source": [
    "# Welcome to EASI <img align=\"right\" src=\"../resources/csiro_easi_logo.png\">\n",
    "\n",
    "This notebook introduces new users to working with EASI notebooks and the Open Data Cube.\n",
    "\n",
    "It will demonstrate the following basic functionality:\n",
    "- [Notebook setup](#Notebook-setup)\n",
    "- [Connect to the OpenDataCube](#Connect-to-the-OpenDataCube)\n",
    "  - [List products](#List-products)\n",
    "  - [List measurements](#List-measurements)\n",
    "  - [Choose a region of interest](#Choose-a-region-of-interest)\n",
    "  - [Load data](#Load-data)\n",
    "  - [Plot data](#Plot-data)\n",
    "  - [Masking and Scaling](#Masking-and-Scaling)\n",
    "  - [Perform a calculation on the data](#Perform-a-calculation-on-the-data)\n",
    "  - [Save the results to a file](#Save-the-results-to-file)\n",
    "- [Summary](#Summary)\n",
    "- [Further reading](#Further-reading)"
   ]
  },
  {
   "cell_type": "markdown",
   "metadata": {
    "tags": []
   },
   "source": [
    "## Notebook setup\n",
    "\n",
    "A notebook consists of cells that contain either text descriptions or python code for performing operations on data.\n",
    "\n",
    "1. Start by clicking on the cell below to select it.\n",
    "1. Execute a selected cell, or each cell in sequence, by clicking the \"play\" button (in the toolbar above) or pressing `Shift`+`Enter`.\n",
    "1. Each cell will show an asterisk icon <font color='#999'>[*]:</font> when it is running. Once this changes to a number, the cell has finished.\n",
    "1. This cell below imports packages to use and sets some formatting options."
   ]
  },
  {
   "cell_type": "code",
   "execution_count": null,
   "metadata": {},
   "outputs": [],
   "source": [
    "# Formatting for basic plots\n",
    "%matplotlib inline\n",
    "%config InlineBackend.rc = {}\n",
    "import matplotlib.pyplot as plt\n",
    "# plt.rcParams['figure.figsize'] = [12, 8]\n",
    "\n",
    "# Formatting pandas table output\n",
    "import pandas\n",
    "pandas.set_option(\"display.max_rows\", None)\n",
    "\n",
    "# Datacube\n",
    "import datacube\n",
    "from datacube.utils import masking  # https://github.com/opendatacube/datacube-core/blob/develop/datacube/utils/masking.py\n",
    "from odc.algo import enum_to_bool   # https://github.com/opendatacube/odc-tools/blob/develop/libs/algo/odc/algo/_masking.py\n",
    "from datacube.utils.rio import configure_s3_access\n",
    "\n",
    "# Notebook helper tools (in dea_tools or in this repo)\n",
    "import sys\n",
    "try:\n",
    "    from dea_tools.plotting import display_map, rgb\n",
    "except ImportError:\n",
    "    # Local copy of selected dea_tools\n",
    "    if 'tools/' not in sys.path:\n",
    "        sys.path.append('tools/')\n",
    "    from datacube_utils import display_map\n",
    "    rgb = None  # Not copied or adapted yet"
   ]
  },
  {
   "cell_type": "markdown",
   "metadata": {},
   "source": [
    "## Connect to the OpenDataCube\n",
    "\n",
    "The `Datacube()` API provides search, load and information functions for data products *indexed* in the EASI ODC database. For further information see https://datacube-core.readthedocs.io/en/latest/."
   ]
  },
  {
   "cell_type": "code",
   "execution_count": null,
   "metadata": {},
   "outputs": [],
   "source": [
    "dc = datacube.Datacube()\n",
    "\n",
    "# Optional: Access AWS \"requester-pays\" buckets\n",
    "# This is necessary for Landsat (\"landsatN_c2l2_*\") and Sentinel-2 (\"s2_l2a\") products\n",
    "from datacube.utils.aws import configure_s3_access\n",
    "configure_s3_access(aws_unsigned=False, requester_pays=True);"
   ]
  },
  {
   "cell_type": "markdown",
   "metadata": {},
   "source": [
    "### List products\n",
    "Get all available products in the ODC database and list them along with selected properties.\n",
    "\n",
    "1. View available products and data coverage at the EASI Explorer: https://explorer.asia.easi-eo.solutions"
   ]
  },
  {
   "cell_type": "code",
   "execution_count": null,
   "metadata": {},
   "outputs": [],
   "source": [
    "products = dc.list_products()  # Pandas DataFrame\n",
    "products"
   ]
  },
  {
   "cell_type": "markdown",
   "metadata": {},
   "source": [
    "### List measurements\n",
    "\n",
    "The data arrays available for each product are called \"*measurements*\".\n",
    "\n",
    "1. List the \"*measurements*\" of the Landsat-8 surface reflectance product (\"**landsat8_c2l2_sr**\")\n",
    "1. The columns are the \"*attributes*\" available for each \"*measurement*\""
   ]
  },
  {
   "cell_type": "code",
   "execution_count": null,
   "metadata": {},
   "outputs": [],
   "source": [
    "measurements = dc.list_measurements()  # Pandas DataFrame, all products\n",
    "measurements.loc['landsat8_c2l2_sr']"
   ]
  },
  {
   "cell_type": "markdown",
   "metadata": {},
   "source": [
    "### Choose a region of interest\n",
    "\n",
    "See the available `latitude`/`longitude` and `time` ranges in the [ODC Explorer](https://explorer.asia.easi-eo.solutions/products/landsat8_c2l2_sr).\n",
    "\n",
    "1. Feel free to change the `latitude`/`longitude` or `time` ranges of the query below. "
   ]
  },
  {
   "cell_type": "code",
   "execution_count": null,
   "metadata": {},
   "outputs": [],
   "source": [
    "# hub.asia.easi-eo.solutions - Lake Tempe, Indonesia\n",
    "latitude = (-4.2, -3.9)\n",
    "longitude = (119.8, 120.1)\n",
    "display_map(longitude, latitude)"
   ]
  },
  {
   "cell_type": "markdown",
   "metadata": {},
   "source": [
    "### Load data \n",
    "Load Landsat-8 surface reflectance data (\"**landsat8_c2l2_sr**\") for a given latitude, longitude and time range.\n",
    "\n",
    "> This may take a few minutes while the data are loaded into JupyterLab (so choose a small area and time range!).\n",
    "\n",
    "The `datacube.load()` function returns an `xarray.Dataset` object.\n",
    "\n",
    "- The display() view is a convenient way to check the data request size, shape and attributes\n",
    "- Once you have an xarray object this can be used with many Python packages.\n",
    "\n",
    "The `output_crs` and `resolution` parameters are dependent on the `product` chosen.\n",
    "\n",
    "Further information on `xarray`: http://xarray.pydata.org/en/stable/user-guide/data-structures.html "
   ]
  },
  {
   "cell_type": "code",
   "execution_count": null,
   "metadata": {},
   "outputs": [],
   "source": [
    "# A standard datacube.load() call\n",
    "# Any SQLAlchemy warnings can be ignored.\n",
    "\n",
    "data = dc.load(\n",
    "    product = 'landsat8_c2l2_sr', \n",
    "    latitude = latitude,\n",
    "    longitude = longitude,\n",
    "    time=('2020-02-01', '2020-04-01'),\n",
    "    \n",
    "    output_crs=\"EPSG:32655\",  # Target CRS\n",
    "    resolution=(30, -30),     # Target resolution\n",
    "    group_by='solar_day',     # Group by time method\n",
    ")\n",
    "\n",
    "display(data)"
   ]
  },
  {
   "cell_type": "markdown",
   "metadata": {},
   "source": [
    "### Plot data\n",
    "Plot the [Short-wave Infrared (SWIR)](https://www.usgs.gov/faqs/what-are-best-landsat-spectral-bands-use-my-research) (`\"swir22\"`) band data at each timestep.\n",
    "\n",
    "The `datacube.load()` function does not apply missing values or scaling attributes. These are left to the user's discretion and requirements.\n",
    "\n",
    "- The [robust](https://docs.xarray.dev/en/stable/user-guide/plotting.html#robust) option excludes outliers when calculating the colour limts for a more consistent result."
   ]
  },
  {
   "cell_type": "code",
   "execution_count": null,
   "metadata": {},
   "outputs": [],
   "source": [
    "# Xarray operations\n",
    "band = 'swir22'\n",
    "data[band].plot(col=\"time\", robust=True, col_wrap=4);"
   ]
  },
  {
   "cell_type": "markdown",
   "metadata": {
    "tags": []
   },
   "source": [
    "### Masking and Scaling\n",
    "\n",
    "Many Earth observation products include a \"quality\" array that can be used to filter the measurement arrays. For example, most quality layers include a \"cloud\" confidence quality flag that can be use to remove pixels affected by clouds from further analysis. In addition:\n",
    "\n",
    "- Data products usually include a `nodata` value that defines the \"null\" or \"fill\" value used in the array, and;\n",
    "- Some data products may also have \"scaling\" attributes.\n",
    "\n",
    "More information on these techniques is covered in other notebooks. In particular, see the `datasets/*ipynb` notebooks for specific examples.\n",
    "\n",
    "**Landsat** data requires a scale factor to be applied to convert the data to physical reflectance or temperature values. Once converted, Landsat surface reflectance values will have numbers ranging from 0 to 1 and surface temperature values will be in the units of degrees Kelvin. The scaling factor is different for different Landsat \"Collections\" and it is different for the Surface Reflectance and Surface Temperature products. See https://www.usgs.gov/faqs/how-do-i-use-a-scale-factor-landsat-level-2-science-products.\n",
    "\n",
    "In the cell below we:\n",
    "\n",
    "1. Apply the `nodata` value\n",
    "1. Define and apply the Landsat \"Collection 2\" surface reflectance scaling values.\n",
    "1. Apply a cloud mask\n",
    "\n",
    "Note the exclusion of cloud (if present) and the change in the colourbar range from the previous figure."
   ]
  },
  {
   "cell_type": "code",
   "execution_count": null,
   "metadata": {},
   "outputs": [],
   "source": [
    "# Choose bands for further processing\n",
    "bands = ['red', 'green', 'blue', 'nir08', 'swir22']\n",
    "\n",
    "# Make a mask array for the nodata value\n",
    "valid_mask = masking.valid_data_mask(data[bands])\n",
    "\n",
    "# Define the scaling values (landsat8_c2l2_sr)\n",
    "scale_factor = 0.0000275\n",
    "add_offset = -0.2\n",
    "\n",
    "# Make a scaled data array\n",
    "scaled_data = data[bands] * scale_factor + add_offset"
   ]
  },
  {
   "cell_type": "code",
   "execution_count": null,
   "metadata": {},
   "outputs": [],
   "source": [
    "# Make a cloud mask (landsat8_c2l2_sr)\n",
    "from datacube.utils import masking\n",
    "\n",
    "# Optional - Show the flag_definition information\n",
    "# See also http://explorer.asia.easi-eo.solutions/products/landsat8_c2l2_sr#definition-doc\n",
    "# display( masking.describe_variable_flags(data.qa_pixel) )\n",
    "\n",
    "# Multiple flags are combined as logical AND (bitwise)\n",
    "cloud_mask = masking.make_mask(data['qa_pixel'], \n",
    "    clear='clear',\n",
    ")"
   ]
  },
  {
   "cell_type": "code",
   "execution_count": null,
   "metadata": {},
   "outputs": [],
   "source": [
    "# Apply each of the masks\n",
    "filtered_data = scaled_data.where(valid_mask & cloud_mask)\n",
    "\n",
    "filtered_data['swir22'].plot(col=\"time\", robust=True, col_wrap=4);"
   ]
  },
  {
   "cell_type": "markdown",
   "metadata": {},
   "source": [
    "### Perform a calculation on the data\n",
    "As a simple example, we calculate the Normalized Difference Vegetation Index (NDVI)."
   ]
  },
  {
   "cell_type": "code",
   "execution_count": null,
   "metadata": {},
   "outputs": [],
   "source": [
    "# Calculate the NDVI\n",
    "band_diff = filtered_data.nir08 - filtered_data.red\n",
    "band_sum = filtered_data.nir08 + filtered_data.red\n",
    "ndvi = band_diff / band_sum\n",
    "\n",
    "# Plot the masked NDVI\n",
    "ndvi.plot(col=\"time\", robust=True, col_wrap=4, vmin=0, vmax=0.7, cmap='RdYlGn');"
   ]
  },
  {
   "cell_type": "markdown",
   "metadata": {},
   "source": [
    "### Save the results to file\n",
    "After processing the data we can then save the output to a file that can then be imported into other applications for further analysis or publication if required.\n",
    "\n",
    "The file will be saved to your home directory and appear on the File Browser panel to the left. You may need to select the `folder` icon to go to the top level (`/home/jovyan/`).\n",
    "\n",
    "Download a file by `'right-click' Download`."
   ]
  },
  {
   "cell_type": "code",
   "execution_count": null,
   "metadata": {},
   "outputs": [],
   "source": [
    "# Xarray can save the data to a netCDF file\n",
    "\n",
    "ndvi.time.attrs.pop('units', None)  # Xarray re-applies this\n",
    "ndvi.to_netcdf(\"/home/jovyan/landsat8_sr_ndvi.nc\")"
   ]
  },
  {
   "cell_type": "code",
   "execution_count": null,
   "metadata": {},
   "outputs": [],
   "source": [
    "# Or export to geotiff using rioxarray.\n",
    "\n",
    "import rioxarray\n",
    "ndvi.isel(time=0).rio.to_raster(\"/home/jovyan/landsat8_sr_ndvi.tif\")  # Single time slices"
   ]
  },
  {
   "cell_type": "markdown",
   "metadata": {},
   "source": [
    "## Summary\n",
    "\n",
    "This notebook introduced the main steps for querying data (with `Datacube`), and filtering, plotting, calculating and saving a \"cube\" of data (with `Xarray`).\n",
    "\n",
    "There is plenty of detail and options to explore so please work through the other notebooks to learn more and refer back to these notebooks when required. We encourage you to create or bring your own notebooks, and adapt notebooks from other [open-license repositories](https://docs.asia.easi-eo.solutions/user-guide/users-guide/03-using-notebooks/#other-available-odc-notebooks)."
   ]
  },
  {
   "cell_type": "code",
   "execution_count": null,
   "metadata": {},
   "outputs": [],
   "source": [
    "if rgb:\n",
    "    rgb(filtered_data.isel(time=2), ['red', 'green', 'blue'])"
   ]
  },
  {
   "cell_type": "markdown",
   "metadata": {},
   "source": [
    "## Further reading \n",
    "\n",
    "#### Open Data Cube\n",
    "\n",
    "- [ODC documentation](https://datacube-core.readthedocs.io/en/latest)\n",
    "- [ODC github](https://github.com/opendatacube)\n",
    "\n",
    "#### Python\n",
    "\n",
    "> *Recommended level: Basic Python knowledge and familiarity with array manipulations, __numpy__ and __xarray__. Familiarity with some plotting libraries (e.g., __matplotlib__) would also help.*\n",
    "\n",
    "There are many options for learning Python from online resources to in-house or facilitated training. Some examples are offered here with no suggestion that EASI endorses any of them.\n",
    "\n",
    "- [https://www.python.org/about/gettingstarted](https://www.python.org/about/gettingstarted/)\n",
    "- Learn Python tutorials: [https://www.learnpython.org](https://www.learnpython.org/)\n",
    "- Data Camp: [https://www.datacamp.com](https://www.datacamp.com/)\n",
    "- David Beazley courses: [https://dabeaz-course.github.io/practical-python](https://dabeaz-course.github.io/practical-python/)\n",
    "- Python Charmers: [https://pythoncharmers.com](https://pythoncharmers.com/)\n",
    "\n",
    "Background for selected libraries:\n",
    "\n",
    "- Numpy: [https://numpy.org/doc/stable/user/quickstart.html](https://numpy.org/doc/stable/user/quickstart.html)\n",
    "- Xarray: [http://xarray.pydata.org/en/stable/user-guide/data-structures.html](http://xarray.pydata.org/en/stable/user-guide/data-structures.html)\n",
    "- Xarray: [https://towardsdatascience.com/basic-data-structures-of-xarray-80bab8094efa](https://towardsdatascience.com/basic-data-structures-of-xarray-80bab8094efa)\n",
    "\n",
    "#### JupyterLab\n",
    "\n",
    "> *Recommended level: Familiarity with notebooks.*\n",
    "\n",
    "The JupyterLab website has excellent documentation including video instructions. We recommend users take a few minutes to orientate themselves with the use and features of JupyterLab.\n",
    "\n",
    "- Getting started: [https://jupyterlab.readthedocs.io/en/stable/getting_started/overview.html](https://jupyterlab.readthedocs.io/en/stable/getting_started/overview.html)\n",
    "- Drag and drop upload of files: [https://jupyterlab.readthedocs.io/en/stable/user/files.html](https://jupyterlab.readthedocs.io/en/stable/user/files.html)\n",
    "\n",
    "#### Git\n",
    "\n",
    "> *Recommended level: Basic understanding of concepts such as __clone__, __add__, __commit__ and __push__ would help.*\n",
    "\n",
    "Git is a document version control system. It retains a full history of changes to all files (including deleted ones) by tracking incremental changes and recording a history timeline of changes. Changes you make append to the history timeline. Git allows you to copy (\"clone\") a repository, make changes to files, and \"commit\" and \"push\" these changes back to the source repository.\n",
    "\n",
    "The best way to learn Git is by practice and incrementally; start with simple, common actions and gain more knowledge when required. Some useful Git links are:\n",
    "\n",
    "- Getting started: [https://git-scm.com/doc](https://git-scm.com/doc)\n",
    "- Using the JupyterLab Git extension: [https://annefou.github.io/jupyter_publish/02-git/index.html](https://annefou.github.io/jupyter_publish/02-git/index.html)\n",
    "- DEA Git guide: [https://github.com/GeoscienceAustralia/dea-notebooks/wiki/Guide-to-using-DEA-Notebooks-with-git](https://github.com/GeoscienceAustralia/dea-notebooks/wiki/Guide-to-using-DEA-Notebooks-with-git)\n",
    "- Undoing things guide: [https://git-scm.com/book/en/v2/Git-Basics-Undoing-Things](https://git-scm.com/book/en/v2/Git-Basics-Undoing-Things)\n",
    "- Understanding branches: [https://nvie.com/posts/a-successful-git-branching-model](https://nvie.com/posts/a-successful-git-branching-model)"
   ]
  },
  {
   "cell_type": "code",
   "execution_count": null,
   "metadata": {},
   "outputs": [],
   "source": []
  }
 ],
 "metadata": {
  "kernelspec": {
   "display_name": "Python 3 (ipykernel)",
   "language": "python",
   "name": "python3"
  },
  "language_info": {
   "codemirror_mode": {
    "name": "ipython",
    "version": 3
   },
   "file_extension": ".py",
   "mimetype": "text/x-python",
   "name": "python",
   "nbconvert_exporter": "python",
   "pygments_lexer": "ipython3",
   "version": "3.10.6"
  }
 },
 "nbformat": 4,
 "nbformat_minor": 4
}
