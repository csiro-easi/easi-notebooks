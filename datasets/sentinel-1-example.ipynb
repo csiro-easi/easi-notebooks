{
 "cells": [
  {
   "cell_type": "markdown",
   "id": "9f1d880e-767a-42dd-8270-49e34f5086e3",
   "metadata": {},
   "source": [
    "# Using EASI Sentinel-1 data\n",
    "\n",
    "This notebook will demonstrate how to load and use Sentinel-1 data generated in EASI.\n",
    "\n",
    "> Adapted from https://github.com/csiro-easi/eocsi-hackathon-2022/blob/main/tutorials/SAR_data.ipynb\n",
    "\n",
    "## Introduction to Sentinel-1\n",
    "\n",
    "Sentinel-1 carries a synthetic aperture radar (SAR) sensor, which can observe our planet even through cloud cover. Sentinel-1's SAR sensor is an active sensor; it emits light in the microwave range of the electormagnetic spectrum, and measures the amount that returns, known as backscatter. Smooth surfaces, like calm water, have very low backscatter - most of the light bounces away from the sensor (known as specular reflection). For rough surfaces, like dirt or vegetation, light is scattered in all directions, producing small backscatter signals (known as diffuse backscatter). Large, human-made structures, which feature both vertical and horizonal smooth surfaces, produce large backscatter signals (known as double bounce). As such, the intensity of Sentinel-1 backscatter can distinguish water from land, as shown in the image below:\n",
    "\n",
    "![Radarsat-2 image](https://gisgeography.com/wp-content/uploads/2014/05/Radarsat2-Example.png)\n",
    "\n",
    "In the image, the river appears dark (specular reflection), with the urban area appearing very bright (double bounce). For more information, see the [article from GIS Geography on SAR](https://gisgeography.com/synthetic-aperture-radar-examples/)."
   ]
  },
  {
   "cell_type": "markdown",
   "id": "dd5c0ff4-e1a2-4adf-98d1-1ca5b9f3126d",
   "metadata": {},
   "source": [
    "## Set up\n",
    "\n",
    "### Import required packages and functions"
   ]
  },
  {
   "cell_type": "code",
   "execution_count": null,
   "id": "1c848c17-2e7c-4b68-9682-b8994644f521",
   "metadata": {},
   "outputs": [],
   "source": [
    "# Basic plots\n",
    "%matplotlib inline\n",
    "# import matplotlib.pyplot as plt\n",
    "# plt.rcParams['figure.figsize'] = [12, 8]\n",
    "\n",
    "# Common imports and settings\n",
    "import os, sys\n",
    "from pathlib import Path\n",
    "from IPython.display import Markdown\n",
    "import pandas as pd\n",
    "pd.set_option(\"display.max_rows\", None)\n",
    "import xarray as xr\n",
    "\n",
    "# Datacube\n",
    "import datacube\n",
    "from datacube.utils.rio import configure_s3_access\n",
    "from datacube.utils import masking\n",
    "from datacube.utils.cog import write_cog\n",
    "# https://github.com/GeoscienceAustralia/dea-notebooks/tree/develop/Tools\n",
    "from dea_tools.plotting import display_map\n",
    "from dea_tools.datahandling import mostcommon_crs\n",
    "\n",
    "# EASI tools\n",
    "repo = f'{os.environ[\"HOME\"]}/easi-notebooks'  # No easy way to get repo directory\n",
    "if repo not in sys.path: sys.path.append(repo)\n",
    "from easi_tools import EasiNotebooks, xarray_object_size, init_dask_cluster\n",
    "\n",
    "# Data tools\n",
    "import hvplot.xarray\n",
    "import cartopy.crs as ccrs\n",
    "import numpy as np\n",
    "from dask.diagnostics import ProgressBar\n",
    "from scipy.ndimage import uniform_filter, variance\n",
    "from skimage.filters import threshold_minimum\n",
    "\n",
    "# Dask\n",
    "from dask.distributed import Client\n",
    "from dask_gateway import Gateway"
   ]
  },
  {
   "cell_type": "markdown",
   "id": "d2916064-8680-44a2-b537-0ecdd0b3e05b",
   "metadata": {
    "tags": []
   },
   "source": [
    "### EASI environment"
   ]
  },
  {
   "cell_type": "code",
   "execution_count": null,
   "id": "44d6583e-d2f5-4587-b035-6814d1313740",
   "metadata": {
    "tags": []
   },
   "outputs": [],
   "source": [
    "this = EasiNotebooks('csiro')\n",
    "\n",
    "family = 'sentinel-1'\n",
    "product = this.product(family)\n",
    "display(Markdown(f'Default {family} product for \"{this.name}\": [{product}]({this.explorer}/products/{product})'))"
   ]
  },
  {
   "cell_type": "markdown",
   "id": "bb66366a-f2d5-461a-a34f-7eed5a5296fb",
   "metadata": {
    "tags": []
   },
   "source": [
    "### Dask and ODC"
   ]
  },
  {
   "cell_type": "code",
   "execution_count": null,
   "id": "02f9e778-755c-4ff2-a99f-ad5c48438665",
   "metadata": {
    "tags": []
   },
   "outputs": [],
   "source": [
    "# Start dask cluster - this may take a few minutes\n",
    "cluster, client = init_dask_cluster()\n",
    "display(cluster)\n",
    "\n",
    "# ODC\n",
    "dc = datacube.Datacube()\n",
    "\n",
    "# List measurements\n",
    "dc.list_measurements().loc[[product]]"
   ]
  },
  {
   "cell_type": "markdown",
   "id": "1801db2b-e24e-45fa-85d4-e153ebcc8f6f",
   "metadata": {},
   "source": [
    "## Choose an area of interest"
   ]
  },
  {
   "cell_type": "code",
   "execution_count": null,
   "id": "2a04d875-20d4-4d72-a16d-e76b7f48161c",
   "metadata": {
    "tags": []
   },
   "outputs": [],
   "source": [
    "# Set your own latitude / longitude\n",
    "\n",
    "# Perth, WA\n",
    "# latitude = (-34, -31)\n",
    "# longitude = (114, 118)\n",
    "# time = ('2020-01-12', '2020-01-13')  # S1B_IW_GRDH_1SDV_20200112T213428_20200112T213453_019789_0256A8_7757.zip\n",
    "# time = ('2021-07-17', '2021-07-18')  # S1B_IW_GRDH_1SDV_20210717T213438_20210717T213503_027839_03526B_6421.zip\n",
    "\n",
    "# Cairns, Qld\n",
    "latitude = (-18.5, -14.5)\n",
    "longitude = (144, 146.5)\n",
    "# time = ('2020-01-18', '2020-01-19')  # S1A_IW_GRDH_1SDV_20200118T195200_20200118T195225_030859_038A8E_E46C.zip\n",
    "time = ('2021-07-11', '2021-07-12')  # S1A_IW_GRDH_1SDV_20210711T195210_20210711T195235_038734_04921C_BC5C.zip\n",
    "\n",
    "# Surat Basin, Qld\n",
    "# latitude = (-29, -25)\n",
    "# longitude = (149, 153)\n",
    "# time = ('2022-01-16', '2022-01-17')  # S1A_IW_GRDH_1SSH_20220116T083316_20220116T083341_041483_04EED2_1DBE.zip\n",
    "\n",
    "# Melbourne Vic\n",
    "# latitude = (-39, -37)\n",
    "# longitude = (143, 147)\n",
    "# time = ('2020-01-15', '2020-01-16')  # S1A_IW_GRDH_1SDV_20200115T193320_20200115T193345_030815_038904_6D44.zip\n",
    "\n",
    "display_map(longitude, latitude)"
   ]
  },
  {
   "cell_type": "markdown",
   "id": "9fefeef8-0c21-49c2-b86f-c68e5178a7ac",
   "metadata": {
    "tags": []
   },
   "source": [
    "## Load data"
   ]
  },
  {
   "cell_type": "code",
   "execution_count": null,
   "id": "2f4c724f-636a-4833-a165-adb053acaa07",
   "metadata": {
    "tags": []
   },
   "outputs": [],
   "source": [
    "data = dc.load(\n",
    "    product = product, \n",
    "    latitude = latitude,\n",
    "    longitude = longitude,\n",
    "    time = time,\n",
    "    dask_chunks = {'latitude':2048, 'longitude':2048},      # Dask chunk size. Requires a dask cluster (see the \"tutorials/dask\" notebooks)\n",
    "    group_by = 'solar_day',                    # Group by day method\n",
    ")\n",
    "\n",
    "display(data)\n",
    "\n",
    "display(f'Number of bytes: {data.nbytes}')\n",
    "display(xarray_object_size(data))"
   ]
  },
  {
   "cell_type": "markdown",
   "id": "5fc56259-2e20-48f8-bab5-13ef56993bf9",
   "metadata": {
    "tags": []
   },
   "source": [
    "## Plot the data"
   ]
  },
  {
   "cell_type": "code",
   "execution_count": null,
   "id": "aec0cefe-8771-45b2-b655-9a99428674e1",
   "metadata": {
    "tags": []
   },
   "outputs": [],
   "source": [
    "def plot_band(band, clim=None, frame_height=500):\n",
    "    if not clim:\n",
    "        clim = (-0.01, 0.5)\n",
    "    x = data[band].hvplot(\n",
    "        groupby='time', rasterize=True,\n",
    "        cmap=\"Greys_r\", clim=clim,\n",
    "        geo=True, crs=ccrs.PlateCarree(), projection=ccrs.PlateCarree(),\n",
    "        title = f'Measurement: {band.upper()}', frame_height=frame_height,\n",
    "    )\n",
    "    return x\n",
    "\n",
    "vv_plot = plot_band('vv')\n",
    "vh_plot = plot_band('vh', clim=(-0.01,0.1))\n",
    "\n",
    "# Display next to each other with axes linked (default)\n",
    "vv_plot + vh_plot"
   ]
  },
  {
   "cell_type": "markdown",
   "id": "1bbb8282-3b77-43ce-a774-88b031fb94a3",
   "metadata": {},
   "source": [
    "## Make an RGB image\n",
    "\n",
    "For an RGB visualization we use the ratio between VH and VV."
   ]
  },
  {
   "cell_type": "code",
   "execution_count": null,
   "id": "be471fd9-f3e6-4872-8010-d0302c73b76e",
   "metadata": {
    "tags": []
   },
   "outputs": [],
   "source": [
    "# Add the vh/vv band\n",
    "data['vh_vv'] = data.vh / data.vv\n",
    "\n",
    "# Scale the measurements by their median so they have a similar range for visualization\n",
    "med = data / data.median(dim=['latitude','longitude'])\n",
    "\n",
    "# Create an RGB array, and persist it on the dask cluster\n",
    "rgb_ds = xr.concat([med.vv, med.vh, med.vh_vv], 'channel').rename('rgb').to_dataset().persist()"
   ]
  },
  {
   "cell_type": "code",
   "execution_count": null,
   "id": "877e1c9d-d879-49af-94e1-a2a8d2b67ae9",
   "metadata": {
    "tags": []
   },
   "outputs": [],
   "source": [
    "# Plot the RGB\n",
    "rgb_plot = rgb_ds.hvplot.rgb(\n",
    "    bands='channel',\n",
    "    groupby='time', rasterize=True,\n",
    "    geo=True, crs=ccrs.PlateCarree(), projection=ccrs.PlateCarree(),\n",
    "    title='RGB', frame_height=500,\n",
    ")\n",
    "\n",
    "rgb_plot  # + vv_plot + vh_plot"
   ]
  },
  {
   "cell_type": "markdown",
   "id": "fd1df15e-31e8-4ad8-9940-e28bd6822441",
   "metadata": {},
   "source": [
    "## Export to Geotiffs\n",
    "\n",
    "Recall that to write a dask dataset to a file requires the dataset to be `.compute()`ed. This may result in a large memory increase on your JupyterLab node if the area of interest is large enough, which in turn may kill the kernel. If so then skip this step, choose a smaller area or find a different way to export data."
   ]
  },
  {
   "cell_type": "code",
   "execution_count": null,
   "id": "1347d080-74d5-491a-bb45-45252fc385ea",
   "metadata": {
    "tags": []
   },
   "outputs": [],
   "source": [
    "# Make a directory to save outputs to\n",
    "target = Path.home() / 'output'\n",
    "if not target.exists(): target.mkdir()\n",
    "\n",
    "def write_band(ds, varname):\n",
    "    \"\"\"Write the variable name of the xarray dataset to a Geotiff files for each time layer\"\"\"\n",
    "    for i in range(len(ds.time)):\n",
    "        date = ds[varname].isel(time=i).time.dt.strftime('%Y%m%d').data\n",
    "        single = ds[varname].isel(time=i).compute()\n",
    "        write_cog(geo_im=single, fname=f'{target}/example_sentinel-1_{varname}_{date}.tif', overwrite=True)\n",
    "        \n",
    "write_band(data, 'vv')\n",
    "write_band(data, 'vh')\n",
    "# write_band(rgb_da, 'rgb')"
   ]
  },
  {
   "cell_type": "code",
   "execution_count": null,
   "id": "591f8b89-c3b4-4e78-844e-dbab95b1b2e9",
   "metadata": {},
   "outputs": [],
   "source": []
  }
 ],
 "metadata": {
  "kernelspec": {
   "display_name": "Python 3 (ipykernel)",
   "language": "python",
   "name": "python3"
  },
  "language_info": {
   "codemirror_mode": {
    "name": "ipython",
    "version": 3
   },
   "file_extension": ".py",
   "mimetype": "text/x-python",
   "name": "python",
   "nbconvert_exporter": "python",
   "pygments_lexer": "ipython3",
   "version": "3.10.6"
  }
 },
 "nbformat": 4,
 "nbformat_minor": 5
}
